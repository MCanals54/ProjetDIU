{
 "cells": [
  {
   "cell_type": "markdown",
   "metadata": {},
   "source": [
    "# **Les graphes**\n",
    "<h2 id=introduction>  Introduction  </h2>\n",
    "\n",
    "Dans l'activité 1 tu as découvert des planètes reliées entre elles par des lignes. L'ensemble des planètes et des lignes qui les relient forment ce qu'on appelle un **graphe orienté**. Le graphe est dit _**orienté**_ parce qu'il y a un sens de parcours sur les lignes.\n",
    "\n",
    "Voici le graphe orienté complet de l'activité 1 :\n",
    "\n",
    "<img src=\"graphe2.png\" alt=\"drawing\" width=\"400\"/>\n",
    "\n",
    "### **Remarques**\n",
    "1. Les longueurs des flèches sur le dessin n'ont pas d'importance et ne sont pas le reflet des distances réelles. Seuls l'origine et la destination de la flèche sont importantes.\n",
    "2. Il ne peut y avoir qu'une seule flèche de A vers B. On peut aussi relier un sommet avec lui même.\n",
    "| incorrect | correct| non orienté|\n",
    "|:------------------:|:------------------:|:------------------:|\n",
    "| <img src=\"./images/arc_double.png\" alt=\"drawing\" width=\"50\" height=\"50\"/> | <img src=\"./images/orienté1.png\" alt=\"drawing\" width=\"50\"/> | <img src=\"./images/non_oriente.png\" alt=\"drawing\" width=\"50\"/> |\n",
    "\n",
    "\n"
   ]
  },
  {
   "cell_type": "markdown",
   "metadata": {},
   "source": [
    "### **Organisation du chapitre**\n",
    "1. Graphes orientés\n",
    "* Définitions et vocabulaire : graphe orienté, sommet, arc, successeur, prédécesseur\n",
    "* Exercices\n",
    "* Définitions : chemin \n",
    "* Implémentations\n",
    " * Matrice d'adjacence\n",
    " * Liste de successeurs\n",
    "* Exemples de situations utilisant un graphe orienté.\n",
    " * Enchaînement de tâches\n",
    " * \n",
    " \n",
    "2. Graphes simples\n",
    "* Définitions"
   ]
  },
  {
   "cell_type": "markdown",
   "metadata": {},
   "source": [
    "## Définitions 1. Graphes orientés.\n",
    "Un **graphe orienté** est défini par un ensemble $S$ de **sommets** et un ensemble $A$ **d'arcs**. Un **arc** est un _couple_ de sommets de $E$. \n",
    "Si $(a,b)$ est un arc du graphe, $b$ est un **successeur** de $a$ et $a$ est un **prédecesseur** de $b$.\n",
    "\n",
    "**Attention** Dans un couple l'ordre a de l'importance $(a,b) \\ne (b,a)$\n",
    "\n",
    "**Notations** \n",
    "* On note $G = (S,A)$ un graphe. \n",
    "* On note $succ(a)$ l'ensemble des successeurs de $a$.\n",
    "* On note $pred(a)$ l'ensemble des prédecesseurs de $a$.\n",
    "\n",
    "\n",
    "\n",
    "### Exemple \n",
    "Le graphe  <img src=\"./images/oriente2.png\" alt=\"drawing\" width=\"150\"/> est défini par\n",
    "\n",
    "$S = \\{a,b,c,d\\}$ et $A = \\{(a,b), (b,c), (c,d),(d,a),(c,a) , (a,a)\\} $\n",
    "\n",
    "Tu peux faire les exercices [1](./exercices_graphes_orientes.ipynb#exercice1)et [2](./exercices_graphes_orientes.ipynb#exercice2) pour vérifier tes connaissances.\n",
    "L'exercice [3](./exercices_graphes_orientes.ipynb#exercice3) va te permettre de commencer à programmer. "
   ]
  },
  {
   "cell_type": "markdown",
   "metadata": {},
   "source": []
  }
 ],
 "metadata": {
  "kernelspec": {
   "display_name": "Python 3",
   "language": "python",
   "name": "python3"
  },
  "language_info": {
   "codemirror_mode": {
    "name": "ipython",
    "version": 3
   },
   "file_extension": ".py",
   "mimetype": "text/x-python",
   "name": "python",
   "nbconvert_exporter": "python",
   "pygments_lexer": "ipython3",
   "version": "3.6.10"
  }
 },
 "nbformat": 4,
 "nbformat_minor": 4
}
