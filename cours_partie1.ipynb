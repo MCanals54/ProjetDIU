{
 "cells": [
  {
   "cell_type": "markdown",
   "metadata": {},
   "source": [
    "# **Les graphes**\n",
    "<h2 id=introduction>  Introduction  </h2>\n",
    "\n",
    "Dans l'activité 1 tu as découvert des planètes reliées entre elles par des lignes. L'ensemble des planètes et des lignes qui les relient forment ce qu'on appelle un **graphe orienté**. Le graphe est dit _**orienté**_ parce qu'il y a un sens de parcours sur les lignes.\n",
    "\n",
    "Voici le graphe orienté complet de l'activité 1 :\n",
    "\n",
    "<img src=\"graphe2.png\" alt=\"drawing\" width=\"400\"/>\n",
    "\n",
    "### **Remarques**\n",
    "1. Les longueurs des flèches sur le dessin n'ont pas d'importance et ne sont pas le reflet des distances réelles. Seuls l'origine et la destination de la flèche sont importantes.\n",
    "2. Il ne peut y avoir qu'une seule flèche de A vers B. On peut aussi relier un sommet avec lui même.\n",
    "\n",
    "| incorrect | correct| non orienté|\n",
    "|:------------------:|:------------------:|:------------------:|\n",
    "| <img src=\"./images/arc_double.png\" alt=\"drawing\" width=\"50\" height=\"50\"/> | <img src=\"./images/orienté1.png\" alt=\"drawing\" width=\"50\"/> | <img src=\"./images/non_oriente.png\" alt=\"drawing\" width=\"50\"/> |\n",
    "\n",
    "\n"
   ]
  },
  {
   "cell_type": "markdown",
   "metadata": {},
   "source": [
    "### **Organisation du chapitre**\n",
    "I. Graphes orientés\n",
    "* Définitions et vocabulaire : graphe orienté, sommet, arc, successeur, prédécesseur, chemin\n",
    "* Exercices\n",
    "* Implémentations\n",
    " * Matrice d'adjacence\n",
    " * Liste de successeurs\n",
    "* Exemples de situations utilisant un graphe orienté.\n",
    " * Enchaînement de tâches\n",
    " * Le problème des seaux\n",
    " \n",
    " \n",
    "II. Graphes simples\n",
    "* Définitions"
   ]
  },
  {
   "cell_type": "markdown",
   "metadata": {},
   "source": [
    "# I Graphes orientés\n",
    "## **I.1 Définitions .** \n",
    "* Un **graphe orienté** est défini par un ensemble $S$ de **sommets** et un ensemble $A$ **d'arcs**. \n",
    "\n",
    "* Un **arc** est un _couple_ de sommets de $E$. \n",
    "**Attention** Dans un couple l'ordre a de l'importance $(a,b) \\ne (b,a)$.\n",
    "\n",
    "* Si $(a,b)$ est un arc du graphe, $b$ est un **successeur** de $a$ et $a$ est un **prédecesseur** de $b$.\n",
    "\n",
    "* Si $u = (a,b)$ est un arc, $a$ est la **source** de $u$ et $b$ est la **destination** de $u$.\n",
    "\n",
    "* un **chemin** est un n-uplet d'arcs tels que la destination d'un arc est la source du suivant. \n",
    "La longueur d'un chemin est le nombre d'arcs qu'il comporte.\n",
    "\n",
    "Exemple :  <img src=\"./images/chemin.png\" alt=\"drawing\" width=\"100\"/>\n",
    "Un graphe avec un chemin de longueur 3 reliant $a$ à $f$.\n",
    "Le chemin est  $((a,b) ,(b,c),(c,f) )$. On peut aussi le noter $a \\rightarrow b \\rightarrow c \\rightarrow f$\n",
    "\n",
    "**Notations** \n",
    "* On note $G = (S,A)$ un graphe. \n",
    "* On note $succ(a)$ l'ensemble des successeurs de $a$.\n",
    "* On note $pred(a)$ l'ensemble des prédecesseurs de $a$.\n",
    "\n",
    "\n",
    "\n",
    "### Exemple \n",
    "Le graphe  <img src=\"./images/oriente2.png\" alt=\"drawing\" width=\"150\"/> est défini par\n",
    "\n",
    "$S = \\{a,b,c,d\\}$ et $A = \\{(a,b), (b,c), (c,d),(d,a),(c,a) , (a,a)\\} $\n",
    "\n",
    "------\n",
    "## **I.2 Exercices**\n",
    "les exercices [1](./exercices_graphes_orientes.ipynb#exercice1) et [2](./exercices_graphes_orientes.ipynb#exercice2) pour vérifier tes connaissances.\n",
    "L'exercice [3](./exercices_graphes_orientes.ipynb#exercice3) va te permettre de commencer à programmer. \n",
    "\n",
    "---"
   ]
  },
  {
   "cell_type": "markdown",
   "metadata": {},
   "source": [
    "## **I.3 Implémentations d'un graphe orienté.**\n",
    "### I.3.1 **Matrice d'adjacence.**\n",
    "La matrice d'adjacence d'un graphe est un tableau à double entrée. Chaque ligne correspond à un sommet du graphe ainsi que chaque colonne.\n",
    "Le tableau contient des 1 et des 0. \n",
    "Une case contient un 1 s'il y a un arc $(a,b)$, avec $a$ le sommet correspondant à la ligne et $b$ le sommet correspondant à la colonne.\n",
    "\n",
    " * Exemple. Le graphe de l'exemple ci dessus a pour matrice\n",
    "\n",
    "| x| $a$  |$b$   |$c$   |$d$   |\n",
    "|:------:|:-:|:-:|:-:|:-:|\n",
    "|  $a$     | 1 |  1 |  0 | 0  |\n",
    "|  $b$     | 0  | 0  | 1  | 0  |\n",
    "|  $c$     | 1  |  0| 0 |  1|\n",
    "|  $d$     | 0  | 0 | 0 |  1 |\n",
    "\n",
    "Deux méthodes permettent d'implémenter cette matrice en Python .\n",
    "\n",
    "- Méthode 1\n",
    "\n",
    " On numérote les sommets de 0 à 3 et on stocke le tableau sous forme de liste de listes.\n",
    "\n",
    "`matrice =[ [1,1,0,0],[0,0,1,0],[1,0,0,1],[0,0,0,1] ]`\n",
    "\n",
    "- Méthode 2\n",
    "\n",
    " On utilise un dictionnaire de dictionnaires.\n",
    "    \n",
    "```python \n",
    "matrice = {\"a\" : {\"a\" : 1 ,\"b\" : 1 , \"c\" : 0 , \"d\" : 0},\n",
    "           \"b\" : {\"a\" : 0 ,\"b\" : 0 , \"c\" : 1 , \"d\" : 0}, \n",
    "           \"c\" : {\"a\" : 1 ,\"b\" : 0 , \"c\" : 0 , \"d\" : 1}, \n",
    "           \"d\" : {\"a\" : 0 ,\"b\" : 0 , \"c\" : 0 , \"d\" : 1} }\n",
    "```\n"
   ]
  },
  {
   "cell_type": "markdown",
   "metadata": {},
   "source": []
  },
  {
   "cell_type": "code",
   "execution_count": null,
   "metadata": {},
   "outputs": [],
   "source": []
  },
  {
   "cell_type": "code",
   "execution_count": null,
   "metadata": {},
   "outputs": [],
   "source": []
  }
 ],
 "metadata": {
  "kernelspec": {
   "display_name": "Python 3",
   "language": "python",
   "name": "python3"
  },
  "language_info": {
   "codemirror_mode": {
    "name": "ipython",
    "version": 2
   },
   "file_extension": ".py",
   "mimetype": "text/x-python",
   "name": "python",
   "nbconvert_exporter": "python",
   "pygments_lexer": "ipython2",
   "version": "2.7.17"
  }
 },
 "nbformat": 4,
 "nbformat_minor": 4
}