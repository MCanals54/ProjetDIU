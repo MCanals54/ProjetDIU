{
 "cells": [
  {
   "cell_type": "markdown",
   "metadata": {},
   "source": [
    "# Les graphes\n",
    "### Introduction \n",
    "Dans l'activité 1 tu as découvert des planètes reliées entre elles par des lignes. L'ensemble des planètes et des lignes qui les relient forment ce qu'on appelle un **graphe orienté**. Le graphe est dit orienté parce qu'il y a un sens de parcours sur les lignes.\n",
    "\n",
    "Voici le graphe complet de l'activité :\n",
    "\n",
    "<img src=\"graphe2.png\" alt=\"drawing\" width=\"400\"/>"
   ]
  },
  {
   "cell_type": "code",
   "execution_count": 1,
   "metadata": {},
   "outputs": [],
   "source": [
    "### Introduction."
   ]
  },
  {
   "cell_type": "code",
   "execution_count": null,
   "metadata": {},
   "outputs": [],
   "source": []
  }
 ],
 "metadata": {
  "kernelspec": {
   "display_name": "Python 3",
   "language": "python",
   "name": "python3"
  },
  "language_info": {
   "codemirror_mode": {
    "name": "ipython",
    "version": 3
   },
   "file_extension": ".py",
   "mimetype": "text/x-python",
   "name": "python",
   "nbconvert_exporter": "python",
   "pygments_lexer": "ipython3",
   "version": "3.6.10"
  }
 },
 "nbformat": 4,
 "nbformat_minor": 4
}
