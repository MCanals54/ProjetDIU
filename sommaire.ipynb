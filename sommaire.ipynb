{
 "cells": [
  {
   "cell_type": "markdown",
   "metadata": {},
   "source": [
    "# Les graphes en Terminale NSI.\n",
    "### Martin CANALS , DIU EIL\n",
    "## 1. Que dit le programme ?\n",
    "<img src=\"./images/programme1.PNG\" alt=\"drawing\" />\n",
    "<img src=\"./images/programme2.PNG\" alt=\"drawing\" />\n",
    "\n",
    "## 2. Description de la séquence.\n",
    "### 2.1 Activité 1 le voyageur galactique.\n",
    "Cette activité a pour objectif de faire découvrir la notion de graphe orienté en faisant explorer un graphe par l'élève. L'élève fait un premier parcours de graphe \"à la main\" mais il ne dispose pas du dessin du graphe et doit le découvrir au fur et à mesure en demandant à l'ordinateur les successeurs d'un sommet. L'activité permet pose le questionnement de l'ensemble du chapitre :\n",
    "- notion de graphe, graphe orienté , graphe simple\n",
    "- A quoi servent les graphes - exemples d'applications.\n",
    "- Algorithmes sur un graphe : parcours, plus courts chemins entre deux sommets.\n",
    "- Implémentations \n",
    "\n",
    "Lien vers [l'activité 1](./activite1.ipynb)\n",
    "\n",
    "### 2.2 Cours : La notion de graphe, exemples.\n",
    "Dans cette partie du cours on donne les définitions de graphe orienté et de graphe simple ainsi que le vocabulaire associé. Noeud, arète , arc, voisins, successeurs, prédecesseurs, chemin, chaîne.\n",
    "\n",
    "Lien vers [le cours](./cours_partie1.ipynb)\n",
    "\n",
    "### 2.3 Applications des graphes orientés.\n",
    "Dans cette partie on présente trois situations qui utilisent les graphes orientés.\n",
    "Les situations ne sont pas toutes développées mais il y a suffisament de matériel pour développer une activité.\n",
    "\n",
    "Lien vers [les applications](./exemples_digraphes.ipynb)\n",
    "\n",
    "### 2.4 Cours : les algorithmes sur les graphes.\n",
    "Dans cette section l'élève découvre les algorithmes de parcours d'un graphe. La recherche d'un chemin menant reliant 2 sommets ainsi que la détection de boucles dans un graphe.\n",
    "\n",
    "Lien vers [les algorithmes](./algo_digraphes.ipynb)\n",
    "\n",
    "### 2.5 Cours : les graphes non orientés.\n",
    "Cette section présente les graphes non orientés, elle est beaucoup plus simple puisque qu'on peut se ramener très simplement au cas des graphes orientés.\n",
    "Des exemples de situation utilisant des graphes non orientés sont présentés.\n",
    "\n",
    "### 2.6 Compléments : une classe assez complète pour les graphes orientés.\n",
    "Cette section propose à l'élève de construire une classe pour les graphes orientés.\n",
    "Classe basée sur les dictionnaires :\n",
    "\n",
    "```python\n",
    "graphe.sommets : {dictionnaire des sommets} ,\n",
    "graphe.successeurs : { dictionnaire des successeurs},\n",
    "graphe.prédécesseurs : { dictionnaire des prédécesseurs }\n",
    "         \n",
    "```\n",
    "\n",
    "\n",
    "\n"
   ]
  },
  {
   "cell_type": "code",
   "execution_count": null,
   "metadata": {},
   "outputs": [],
   "source": []
  }
 ],
 "metadata": {
  "kernelspec": {
   "display_name": "Python 3",
   "language": "python",
   "name": "python3"
  },
  "language_info": {
   "codemirror_mode": {
    "name": "ipython",
    "version": 3
   },
   "file_extension": ".py",
   "mimetype": "text/x-python",
   "name": "python",
   "nbconvert_exporter": "python",
   "pygments_lexer": "ipython3",
   "version": "3.6.10"
  }
 },
 "nbformat": 4,
 "nbformat_minor": 4
}
