{
 "cells": [
  {
   "cell_type": "markdown",
   "metadata": {},
   "source": [
    "# Les graphes en Terminale NSI.\n",
    "### Martin CANALS , DIU EIL\n",
    "## 1. Que dit le programme ?\n",
    "![programme1.PNG](attachment:./programme1.PNG)\n",
    "![programme2.PNG](attachment:programme2.PNG)\n",
    "\n",
    "## 2. Description de la séquence.\n",
    "### 2.1 Activité 1 le voyageur galactique.\n",
    "Cette activité a pour objectif de faire découvrir la notion de graphe orienté en faisant explorer un graphe par l'élève. L'élève fait un premier parcours de graphe \"à la main\" mais il ne dispose pas du dessin du graphe et doit le découvrir au fur et à mesure en demandant à l'ordinateur les successeurs d'un sommet. L'activité permet pose le questionnement de l'ensemble du chapitre :\n",
    "- notion de graphe, graphe orienté , graphe simple\n",
    "- A quoi servent les graphes - exemples d'applications.\n",
    "- Algorithmes sur un graphe : parcours, plus courts chemins entre deux sommets.\n",
    "- Implémentations \n",
    "\n",
    "Lien vers [l'activité 1](./activite1.ipynb)\n",
    "\n",
    "### 2.2 Cours : La notion de graphe, exemples et applications.\n",
    "Dans cette partie du cours on donne les définitions de graphe orienté et de graphe simple ainsi que le vocabulaire associé. Noeud, arète , arc, voisins, successeurs, prédecesseurs, chemin, chaîne.\n"
   ]
  },
  {
   "cell_type": "code",
   "execution_count": null,
   "metadata": {},
   "outputs": [],
   "source": []
  }
 ],
 "metadata": {
  "kernelspec": {
   "display_name": "Python 3",
   "language": "python",
   "name": "python3"
  },
  "language_info": {
   "codemirror_mode": {
    "name": "ipython",
    "version": 2
   },
   "file_extension": ".py",
   "mimetype": "text/x-python",
   "name": "python",
   "nbconvert_exporter": "python",
   "pygments_lexer": "ipython2",
   "version": "2.7.17"
  }
 },
 "nbformat": 4,
 "nbformat_minor": 4
}
