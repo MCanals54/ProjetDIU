{
 "cells": [
  {
   "cell_type": "markdown",
   "metadata": {},
   "source": [
    "---\n",
    "# **Le problème des cavaliers**\n",
    "\n",
    "## Construction d'un graphe. Parcours du graphe.\n",
    "\n",
    "Un échiquier est un plateau de 8 lignes et 8 colonnes. Ces lignes et ces colonnes seront, dans cet exercice numérotées de 0 à 7. Une position de l’échiquier est un tuple (i, j) d’entiers compris entre 0 et 7 inclus, avec i le numéro de ligne et j le numéro de colonne.\n",
    "Un cavalier placé sur l’échiquier se déplace en bougeant de 2 cases dans une direction (verticale ou horizontale) et de 1 case perpendiculairement. Si le cavalier est loin des bords de l’échiquier, il a 8 possibilités de déplacements, mais il en a moins s’il est près des bords.\n",
    "\n",
    "<img src=\"./images/cavalier2.PNG\" alt=\"drawing\" />\n",
    "\n",
    "                           Le cavalier est placé en (4,3) \n",
    "\n",
    " **Problème :** En partant d'une position, peut-on atteindre toutes les positions de l'échiquier par une suite de déplacements.\n",
    " "
   ]
  },
  {
   "cell_type": "markdown",
   "metadata": {},
   "source": [
    "### Question 1 \n",
    " Écrire une fonction `position_valide` prenant en argument un tuple (i,j) et vérifiant que ce tuple est bien une position de l’échiquier. `position_valide` doit renvoyer un booléen.\n",
    "Rappel sur les tuples :\n",
    "si `position` est le tuple `(2,3)` alors on accède  aux valeurs par le code :\n",
    "```python\n",
    "x = position[0]\n",
    "y = position[1] \n",
    "# ou par le code \n",
    "x , y = position\n",
    "```\n",
    "       Les tuples sont immuables, on ne peut pas écrire position[0] = 1"
   ]
  },
  {
   "cell_type": "code",
   "execution_count": 1,
   "metadata": {},
   "outputs": [],
   "source": [
    "def position_valide(position) :\n",
    "    i , j = position\n",
    "    return 0<= i <= 7 and 0 <= j <= 7"
   ]
  },
  {
   "cell_type": "markdown",
   "metadata": {},
   "source": [
    "### Question 2\n",
    "* Écrire une fonction `deplacement (position, delta)`, ayant comme paramètres deux tuples `position` et `delta` et renvoyant l’image de position par la translation de vecteur delta.\n",
    "* Dresser la liste des vecteurs delta possibles pour un cavalier."
   ]
  },
  {
   "cell_type": "code",
   "execution_count": 3,
   "metadata": {},
   "outputs": [],
   "source": [
    "def deplacement(position, delta) :\n",
    "    x, y = position\n",
    "    dx, dy = delta\n",
    "    return x+dx , y+dy\n",
    "\n",
    "deltas_cavalier = [(1,2),(1,-2),(-1,2),(-1,-2),(2,1),(2,-1),(-2,1),(-2,-1)]"
   ]
  },
  {
   "cell_type": "markdown",
   "metadata": {},
   "source": [
    "### Question 3\n",
    " Écrire une fonction `coups_suivants` prenant en argument une un tuple `position` et renvoyant la liste des positions que peut atteindre un cavalier à partir de cette position en un seul coup sans sortir de l’échiquier.\n"
   ]
  },
  {
   "cell_type": "code",
   "execution_count": 4,
   "metadata": {},
   "outputs": [],
   "source": [
    "def coups_suivants(position) :\n",
    "    suivants = []\n",
    "    for delta in deltas_cavalier :\n",
    "        translatee = deplacement(position, delta) \n",
    "        if position_valide(translatee) : suivants.append(translatee)\n",
    "    return suivants\n",
    "    "
   ]
  },
  {
   "cell_type": "markdown",
   "metadata": {},
   "source": [
    "### Question 4\n",
    "Expliquer en quoi le problème est un problème de parcours de graphe.\n",
    "Le graphe est-il orienté ou non orienté ? Quels sont ses sommets ? Que signigfie un arc ou une arête entre deux sommets ?"
   ]
  },
  {
   "cell_type": "markdown",
   "metadata": {},
   "source": [
    "Justifications :\n",
    "Condidérons l'ensemble des positions. Un déplacement du cavalier permet de passer d'une position a une autre. On a donc un ensemble de sommets : les positions. On définit un arc une position $p_1$ à une position$p_2$ lorsque le cavalier peut se déplacer de $p_1$ à $p_2$. Les déplacements étant réversibles il y aura un arc de $p_2$ à $p_1$. Le graphe est donc non orienté. Le problème est de déterminer l'ensemble des sommets accessibles depuis un arc. "
   ]
  },
  {
   "cell_type": "markdown",
   "metadata": {},
   "source": [
    "### Question 5\n",
    "* Choisir une structure pour implémenter le graphe.\n",
    "* Écrire une ligne de code qui détermine la liste des sommets du graphe.\n",
    "* Écrire un code qui construit le graphe."
   ]
  },
  {
   "cell_type": "code",
   "execution_count": 8,
   "metadata": {},
   "outputs": [
    {
     "data": {
      "text/plain": [
       "{(0, 0): [(1, 2), (2, 1)],\n",
       " (0, 1): [(1, 3), (2, 2), (2, 0)],\n",
       " (0, 2): [(1, 4), (1, 0), (2, 3), (2, 1)],\n",
       " (0, 3): [(1, 5), (1, 1), (2, 4), (2, 2)],\n",
       " (0, 4): [(1, 6), (1, 2), (2, 5), (2, 3)],\n",
       " (0, 5): [(1, 7), (1, 3), (2, 6), (2, 4)],\n",
       " (0, 6): [(1, 4), (2, 7), (2, 5)],\n",
       " (0, 7): [(1, 5), (2, 6)],\n",
       " (1, 0): [(2, 2), (0, 2), (3, 1)],\n",
       " (1, 1): [(2, 3), (0, 3), (3, 2), (3, 0)],\n",
       " (1, 2): [(2, 4), (2, 0), (0, 4), (0, 0), (3, 3), (3, 1)],\n",
       " (1, 3): [(2, 5), (2, 1), (0, 5), (0, 1), (3, 4), (3, 2)],\n",
       " (1, 4): [(2, 6), (2, 2), (0, 6), (0, 2), (3, 5), (3, 3)],\n",
       " (1, 5): [(2, 7), (2, 3), (0, 7), (0, 3), (3, 6), (3, 4)],\n",
       " (1, 6): [(2, 4), (0, 4), (3, 7), (3, 5)],\n",
       " (1, 7): [(2, 5), (0, 5), (3, 6)],\n",
       " (2, 0): [(3, 2), (1, 2), (4, 1), (0, 1)],\n",
       " (2, 1): [(3, 3), (1, 3), (4, 2), (4, 0), (0, 2), (0, 0)],\n",
       " (2, 2): [(3, 4), (3, 0), (1, 4), (1, 0), (4, 3), (4, 1), (0, 3), (0, 1)],\n",
       " (2, 3): [(3, 5), (3, 1), (1, 5), (1, 1), (4, 4), (4, 2), (0, 4), (0, 2)],\n",
       " (2, 4): [(3, 6), (3, 2), (1, 6), (1, 2), (4, 5), (4, 3), (0, 5), (0, 3)],\n",
       " (2, 5): [(3, 7), (3, 3), (1, 7), (1, 3), (4, 6), (4, 4), (0, 6), (0, 4)],\n",
       " (2, 6): [(3, 4), (1, 4), (4, 7), (4, 5), (0, 7), (0, 5)],\n",
       " (2, 7): [(3, 5), (1, 5), (4, 6), (0, 6)],\n",
       " (3, 0): [(4, 2), (2, 2), (5, 1), (1, 1)],\n",
       " (3, 1): [(4, 3), (2, 3), (5, 2), (5, 0), (1, 2), (1, 0)],\n",
       " (3, 2): [(4, 4), (4, 0), (2, 4), (2, 0), (5, 3), (5, 1), (1, 3), (1, 1)],\n",
       " (3, 3): [(4, 5), (4, 1), (2, 5), (2, 1), (5, 4), (5, 2), (1, 4), (1, 2)],\n",
       " (3, 4): [(4, 6), (4, 2), (2, 6), (2, 2), (5, 5), (5, 3), (1, 5), (1, 3)],\n",
       " (3, 5): [(4, 7), (4, 3), (2, 7), (2, 3), (5, 6), (5, 4), (1, 6), (1, 4)],\n",
       " (3, 6): [(4, 4), (2, 4), (5, 7), (5, 5), (1, 7), (1, 5)],\n",
       " (3, 7): [(4, 5), (2, 5), (5, 6), (1, 6)],\n",
       " (4, 0): [(5, 2), (3, 2), (6, 1), (2, 1)],\n",
       " (4, 1): [(5, 3), (3, 3), (6, 2), (6, 0), (2, 2), (2, 0)],\n",
       " (4, 2): [(5, 4), (5, 0), (3, 4), (3, 0), (6, 3), (6, 1), (2, 3), (2, 1)],\n",
       " (4, 3): [(5, 5), (5, 1), (3, 5), (3, 1), (6, 4), (6, 2), (2, 4), (2, 2)],\n",
       " (4, 4): [(5, 6), (5, 2), (3, 6), (3, 2), (6, 5), (6, 3), (2, 5), (2, 3)],\n",
       " (4, 5): [(5, 7), (5, 3), (3, 7), (3, 3), (6, 6), (6, 4), (2, 6), (2, 4)],\n",
       " (4, 6): [(5, 4), (3, 4), (6, 7), (6, 5), (2, 7), (2, 5)],\n",
       " (4, 7): [(5, 5), (3, 5), (6, 6), (2, 6)],\n",
       " (5, 0): [(6, 2), (4, 2), (7, 1), (3, 1)],\n",
       " (5, 1): [(6, 3), (4, 3), (7, 2), (7, 0), (3, 2), (3, 0)],\n",
       " (5, 2): [(6, 4), (6, 0), (4, 4), (4, 0), (7, 3), (7, 1), (3, 3), (3, 1)],\n",
       " (5, 3): [(6, 5), (6, 1), (4, 5), (4, 1), (7, 4), (7, 2), (3, 4), (3, 2)],\n",
       " (5, 4): [(6, 6), (6, 2), (4, 6), (4, 2), (7, 5), (7, 3), (3, 5), (3, 3)],\n",
       " (5, 5): [(6, 7), (6, 3), (4, 7), (4, 3), (7, 6), (7, 4), (3, 6), (3, 4)],\n",
       " (5, 6): [(6, 4), (4, 4), (7, 7), (7, 5), (3, 7), (3, 5)],\n",
       " (5, 7): [(6, 5), (4, 5), (7, 6), (3, 6)],\n",
       " (6, 0): [(7, 2), (5, 2), (4, 1)],\n",
       " (6, 1): [(7, 3), (5, 3), (4, 2), (4, 0)],\n",
       " (6, 2): [(7, 4), (7, 0), (5, 4), (5, 0), (4, 3), (4, 1)],\n",
       " (6, 3): [(7, 5), (7, 1), (5, 5), (5, 1), (4, 4), (4, 2)],\n",
       " (6, 4): [(7, 6), (7, 2), (5, 6), (5, 2), (4, 5), (4, 3)],\n",
       " (6, 5): [(7, 7), (7, 3), (5, 7), (5, 3), (4, 6), (4, 4)],\n",
       " (6, 6): [(7, 4), (5, 4), (4, 7), (4, 5)],\n",
       " (6, 7): [(7, 5), (5, 5), (4, 6)],\n",
       " (7, 0): [(6, 2), (5, 1)],\n",
       " (7, 1): [(6, 3), (5, 2), (5, 0)],\n",
       " (7, 2): [(6, 4), (6, 0), (5, 3), (5, 1)],\n",
       " (7, 3): [(6, 5), (6, 1), (5, 4), (5, 2)],\n",
       " (7, 4): [(6, 6), (6, 2), (5, 5), (5, 3)],\n",
       " (7, 5): [(6, 7), (6, 3), (5, 6), (5, 4)],\n",
       " (7, 6): [(6, 4), (5, 7), (5, 5)],\n",
       " (7, 7): [(6, 5), (5, 6)]}"
      ]
     },
     "execution_count": 8,
     "metadata": {},
     "output_type": "execute_result"
    }
   ],
   "source": [
    "# structure dictionnaire par exemple  { position : [ liste des coups suivants]}\n",
    "sommets = [ (i,j) for i in range(8) for j in range(8)] \n",
    "G = { sommet : coups_suivants(sommet) for sommet in sommets}\n",
    "G\n",
    "# La puissance sémantique de Python alliée à un nommage réfléchi !!"
   ]
  },
  {
   "cell_type": "markdown",
   "metadata": {},
   "source": [
    "### Question 6\n",
    "* Écrire une fonction qui effectue un parcours de ce graphe à partir d'un sommet donné et qui renvoie la liste des sommets découverts.\n",
    "* Répondre au problème."
   ]
  },
  {
   "cell_type": "code",
   "execution_count": 14,
   "metadata": {},
   "outputs": [
    {
     "name": "stdout",
     "output_type": "stream",
     "text": [
      "64 sommet accessibles\n",
      " [(4, 3), (5, 5), (5, 1), (3, 5), (3, 1), (6, 4), (6, 2), (2, 4), (2, 2), (3, 4), (3, 0), (1, 4), (1, 0), (4, 1), (0, 3), (0, 1), (1, 3), (2, 0), (3, 2), (1, 2), (0, 4), (0, 0), (3, 3), (4, 5), (2, 5), (2, 1), (5, 4), (5, 2), (6, 0), (4, 4), (4, 0), (7, 3), (7, 1), (6, 3), (5, 0), (4, 2), (6, 1), (2, 3), (1, 5), (1, 1), (0, 2), (2, 7), (0, 7), (3, 6), (5, 7), (1, 7), (0, 5), (2, 6), (4, 7), (6, 6), (7, 4), (5, 3), (6, 5), (7, 2), (7, 7), (4, 6), (6, 7), (7, 5), (5, 6), (3, 7), (1, 6), (7, 6), (0, 6), (7, 0)]\n"
     ]
    }
   ],
   "source": [
    "def parcours(graphe, initial) :\n",
    "    decouverts = [initial]             # liste des sommets visites\n",
    "    a_explorer = [initial]             # pile des sommets à explorer\n",
    "    while a_explorer :\n",
    "        sommet = a_explorer.pop()\n",
    "        for voisin in graphe[sommet] :\n",
    "            if voisin not in decouverts :\n",
    "                decouverts.append(voisin)\n",
    "                a_explorer.append(voisin)\n",
    "    return decouverts\n",
    "accessibles = parcours(G, (4,3))\n",
    "print(len(accessibles), \"sommet accessibles\\n\",accessibles )"
   ]
  },
  {
   "cell_type": "code",
   "execution_count": null,
   "metadata": {},
   "outputs": [],
   "source": []
  }
 ],
 "metadata": {
  "kernelspec": {
   "display_name": "Python 3",
   "language": "python",
   "name": "python3"
  },
  "language_info": {
   "codemirror_mode": {
    "name": "ipython",
    "version": 3
   },
   "file_extension": ".py",
   "mimetype": "text/x-python",
   "name": "python",
   "nbconvert_exporter": "python",
   "pygments_lexer": "ipython3",
   "version": "3.6.10"
  }
 },
 "nbformat": 4,
 "nbformat_minor": 4
}
