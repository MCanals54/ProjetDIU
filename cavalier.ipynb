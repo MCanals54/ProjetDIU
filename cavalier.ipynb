{
 "cells": [
  {
   "cell_type": "markdown",
   "metadata": {},
   "source": [
    "---\n",
    "# **Le problème des cavaliers**\n",
    "\n",
    "## Construction d'un graphe. Parcours du graphe.\n",
    "\n",
    "Un échiquier est un plateau de 8 lignes et 8 colonnes. Ces lignes et ces colonnes seront, dans cet exercice numérotées de 0 à 7. Une position de l’échiquier est un tuple (i, j) d’entiers compris entre 0 et 7 inclus, avec i le numéro de ligne et j le numéro de colonne.\n",
    "Un cavalier placé sur l’échiquier se déplace en bougeant de 2 cases dans une direction (verticale ou horizontale) et de 1 case perpendiculairement. Si le cavalier est loin des bords de l’échiquier, il a 8 possibilités de déplacements, mais il en a moins s’il est près des bords.\n",
    "\n",
    "<img src=\"./images/cavalier2.PNG\" alt=\"drawing\" />\n",
    "\n",
    "                           Le cavalier est placé en (4,3) \n",
    "\n",
    " **Problème :** En partant d'une position, peut-on atteindre toutes les positions de l'échiquier par une suite de déplacements.\n",
    " "
   ]
  },
  {
   "cell_type": "markdown",
   "metadata": {},
   "source": [
    "### Question 1 \n",
    " Écrire une fonction `position_valide` prenant en argument un tuple (i,j) et vérifiant que ce tuple est bien une position de l’échiquier. `position_valide` doit renvoyer un booléen.\n",
    "Rappel sur les tuples :\n",
    "si `position` est le tuple `(2,3)` alors on accède  aux valeurs par le code :\n",
    "```python\n",
    "x = position[0]\n",
    "y = position[1] \n",
    "# ou par le code \n",
    "x , y = position\n",
    "```\n",
    "       Les tuples sont immuables, on ne peut pas écrire position[0] = 1"
   ]
  },
  {
   "cell_type": "code",
   "execution_count": null,
   "metadata": {},
   "outputs": [],
   "source": []
  },
  {
   "cell_type": "markdown",
   "metadata": {},
   "source": [
    "### Question 2\n",
    "* Écrire une fonction `deplacement (position, delta)`, ayant comme paramètres deux tuples `position` et `delta` et renvoyant l’image de position par la translation de vecteur delta.\n",
    "* Dresser la liste des vecteurs delta possibles pour un cavalier."
   ]
  },
  {
   "cell_type": "code",
   "execution_count": null,
   "metadata": {},
   "outputs": [],
   "source": []
  },
  {
   "cell_type": "markdown",
   "metadata": {},
   "source": [
    "### Question 3\n",
    " Écrire une fonction `coups_suivants` prenant en argument une position (i, j) et renvoyant la liste des positions que peut atteindre un cavalier placé en (i, j) en un seul coup sans sortir de l’échiquier.\n"
   ]
  },
  {
   "cell_type": "code",
   "execution_count": null,
   "metadata": {},
   "outputs": [],
   "source": []
  },
  {
   "cell_type": "markdown",
   "metadata": {},
   "source": [
    "### Question 4\n",
    "Expliquer en quoi le problème est un problème de parcours de graphe.\n",
    "Le graphe est-il orienté ou non orienté ? Quels sont ses sommets ? Que signigfie un arc ou une ar^te entre deux sommets ?"
   ]
  },
  {
   "cell_type": "markdown",
   "metadata": {},
   "source": [
    "Justifications :"
   ]
  },
  {
   "cell_type": "markdown",
   "metadata": {},
   "source": [
    "### Question 5\n",
    "* Choisir une structure pour implémenter le graphe.\n",
    "* Écrire une ligne de code qui détermine la liste des sommets du graphe.\n",
    "* Écrire un code qui construit le graphe."
   ]
  },
  {
   "cell_type": "code",
   "execution_count": null,
   "metadata": {},
   "outputs": [],
   "source": []
  },
  {
   "cell_type": "markdown",
   "metadata": {},
   "source": [
    "### Question 6\n",
    "* Écrire une fonction qui effectue un parcours de ce graphe à partir d'un sommet donné et qui renvoie la liste des sommets visités.\n",
    "* Répondre au problème."
   ]
  },
  {
   "cell_type": "code",
   "execution_count": null,
   "metadata": {},
   "outputs": [],
   "source": []
  }
 ],
 "metadata": {
  "kernelspec": {
   "display_name": "Python 3",
   "language": "python",
   "name": "python3"
  },
  "language_info": {
   "codemirror_mode": {
    "name": "ipython",
    "version": 3
   },
   "file_extension": ".py",
   "mimetype": "text/x-python",
   "name": "python",
   "nbconvert_exporter": "python",
   "pygments_lexer": "ipython3",
   "version": "3.6.10"
  }
 },
 "nbformat": 4,
 "nbformat_minor": 4
}
