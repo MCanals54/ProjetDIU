{
 "cells": [
  {
   "cell_type": "markdown",
   "metadata": {},
   "source": [
    "# **Algorithmes sur les graphes** "
   ]
  },
  {
   "cell_type": "markdown",
   "metadata": {},
   "source": [
    "## **I. Parcours de graphe**\n",
    "### Définitions.\n",
    " Soit G = (S,A) un graphe orienté ou non. Soit $u$ et $v$ deux sommets de S.\n",
    " \n",
    " On dit $v$ est **accessible** depuis $u$ s'il existe un chemin (une chaîne) de $u$ à $v$.\n",
    " \n",
    " **Parcourir** un graphe c'est visiter tous les sommets accessibles depuis un sommet de départ donné.\n",
    " \n",
    "### **Comment parcourir un graphe ?**\n",
    " #### Rappelle toi l'exploration de la galaxie !\n",
    " On part d'un sommet initial que l'on connait, mais on ne connait pas ses successeurs.\n",
    " On dit que le sommet est **visité** et **à explorer**.\n",
    " On détermine la liste des successeurs de ce sommet. Le sommet n'est plus **à explorer**.  Les successeurs deviennent des sommets **visités** et deviennent **à explorer**.\n",
    " On recommence en prenant un sommet dans les sommets qui restent à explorer.\n",
    " \n",
    " On maintient donc deux structures :\n",
    " * une structure _visites_ contenant les sommets visités.\n",
    " * une structure _frontiere_ contenant les sommets à explorer. \n",
    " \n",
    "Remarque : Un sommet qui est dans la _frontiere_ est aussi dans _visites_.\n",
    " \n",
    " Comme il est inutile d'explorer deux fois le même sommet, on ne remet pas dans la _frontiere_ un sommet qui est déjà dans _visites_. \n",
    " \n",
    "Voyons cela sur notre exemple de la galaxie.\n",
    "\n",
    "Nous partons de A , donc \"A\" est dans _visites_"
   ]
  },
  {
   "cell_type": "code",
   "execution_count": 4,
   "metadata": {},
   "outputs": [
    {
     "data": {
      "text/plain": [
       "['B', 'C', 'D', 'E']"
      ]
     },
     "execution_count": 4,
     "metadata": {},
     "output_type": "execute_result"
    }
   ],
   "source": [
    "from galaxie import *\n",
    "visites = ['A']\n",
    "frontiere = ['A']\n",
    "# on chosit  un element dans frontiere et on l'explore \n",
    "# Ici il n'y a que 'A'\n",
    "successeurs = destinations('A')\n",
    "successeurs"
   ]
  },
  {
   "cell_type": "code",
   "execution_count": 6,
   "metadata": {},
   "outputs": [
    {
     "data": {
      "text/plain": [
       "['G', 'F']"
      ]
     },
     "execution_count": 6,
     "metadata": {},
     "output_type": "execute_result"
    }
   ],
   "source": [
    "# On a exploré \"A\", on le retire de la frontiere, \n",
    "# On ajoute les successeurs de \"A\" à la frontiere et dans visites\n",
    "frontiere = ['B', 'C', 'D', 'E']\n",
    "visites = ['A','B','C','D','E']\n",
    "\n",
    "# On recommence en prenant un sommet de la frontiere, par exemple 'B'\n",
    "successeurs = destinations('B')\n",
    "successeurs"
   ]
  },
  {
   "cell_type": "code",
   "execution_count": 7,
   "metadata": {},
   "outputs": [
    {
     "data": {
      "text/plain": [
       "['G', 'H', 'K']"
      ]
     },
     "execution_count": 7,
     "metadata": {},
     "output_type": "execute_result"
    }
   ],
   "source": [
    "# On a exploré \"B\", on le retire de la frontiere, \n",
    "# On ajoute les successeurs de \"B\" à la frontiere et dans visites\n",
    "frontiere = [ 'C', 'D', 'E','G','F']\n",
    "visites = ['A','B','C','D','E','G','F']\n",
    "\n",
    "# On recommence en prenant un sommet de la frontiere, par exemple 'C'\n",
    "successeurs = destinations('C')\n",
    "successeurs"
   ]
  },
  {
   "cell_type": "code",
   "execution_count": 8,
   "metadata": {},
   "outputs": [],
   "source": [
    "# On a exploré \"C\", on le retire de la frontiere, \n",
    "# On ajoute les successeurs de \"C\" à la frontiere et dans visites\n",
    "# Mais 'G' est déjà dans visiter et donc dans frontiere donc on ne le rajoute pas\n",
    "frontiere = ['D', 'E','G','F','H','K']\n",
    "visites = ['A','B','C','D','E','G','F','H','K']\n",
    "\n",
    "# On recommence en prenant un sommet de la frontiere, par exemple 'D'"
   ]
  },
  {
   "cell_type": "markdown",
   "metadata": {},
   "source": [
    "Evidemment on écrit un algorithme qui fait tout cela.\n",
    "\n",
    "---\n",
    "## Algorithme général de parcours d'un graphe\n",
    "\n",
    "```\n",
    "Algorithme exploration( g , s)\n",
    "   entrées : g un graphe , s un sommet \n",
    "   sortie : liste des sommet accessibles depuis s dans le graphe g\n",
    "   \n",
    "   visites : structure linéaire \n",
    "   frontiere : structure lineaire\n",
    "   \n",
    "   visites <- {s} \n",
    "   frontiere <- {s} \n",
    "   tant que frontiere est non vide \n",
    "       choisir et retirer un sommet u de la frontiere \n",
    "       pour v dans succ(u) \n",
    "           si v n'est pas dans visites \n",
    "               visites <- visites + {v} \n",
    "               frontiere <- frontiere + {v} \n",
    "           finsi \n",
    "       fin pour\n",
    "    fin tant que\n",
    "    \n",
    "    renvoyer visites \n",
    "fin              \n",
    "```\n",
    "\n",
    "---"
   ]
  },
  {
   "cell_type": "markdown",
   "metadata": {},
   "source": [
    "**L'ordre d'exploration des sommets du graphe dépend de l'ordre dans lequel on sort les sommets de la frontiere**\n",
    "\n",
    "\n",
    "Pour la structure _frontiere_ on peut envisager deux structures pour la frontière :\n",
    "* Une Pile : les sommets sortent dans l'ordre **inverse** de leur ordre d'entrée.\n",
    "* Une file FIFO : les sommets sortent dans l'ordre de leur entrée.\n",
    "\n",
    "Pour la structure _visites_ , une liste est possible, le mieux étant un _ensemble_ mais la structure _ensemble_ n'est pas au programme de terminale NSI.\n",
    "\n",
    "---"
   ]
  },
  {
   "cell_type": "markdown",
   "metadata": {},
   "source": [
    "## Implémentation.\n",
    "\n",
    "L'implémentation de l'algorithme nécessite de disposer d'une fonction `successeur(sommet)`qui renvoie la liste des successeurs d'un sommet.\n",
    "Il faut donc écrire une telle fonction pour chaque implémentation, celà permet d'avoir un programme de parcours **indépendant** de l'implémentation choisie.\n"
   ]
  }
 ],
 "metadata": {
  "kernelspec": {
   "display_name": "Python 3",
   "language": "python",
   "name": "python3"
  },
  "language_info": {
   "codemirror_mode": {
    "name": "ipython",
    "version": 3
   },
   "file_extension": ".py",
   "mimetype": "text/x-python",
   "name": "python",
   "nbconvert_exporter": "python",
   "pygments_lexer": "ipython3",
   "version": "3.6.10"
  }
 },
 "nbformat": 4,
 "nbformat_minor": 4
}
