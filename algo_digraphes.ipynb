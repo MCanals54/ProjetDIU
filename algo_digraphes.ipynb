{
 "cells": [
  {
   "cell_type": "markdown",
   "metadata": {},
   "source": [
    "# **Algorithmes sur les graphes** "
   ]
  },
  {
   "cell_type": "markdown",
   "metadata": {},
   "source": [
    "## **I. Parcours de graphe**\n",
    "### Définitions.\n",
    " Soit G = (S,A) un graphe orienté ou non. Soit $u$ et $v$ deux sommets de S.\n",
    " \n",
    " On dit $v$ est **accessible** depuis $u$ s'il existe un chemin (une chaîne dans le cas non orienté) de $u$ à $v$.\n",
    " \n",
    " **Parcourir** un graphe c'est **découvrir** tous les sommets accessibles depuis un sommet de départ donné.\n",
    " \n",
    "### **Comment parcourir un graphe ?**\n",
    " #### Rappelle toi l'exploration de la galaxie !\n",
    " On part d'un sommet initial que l'on connait, mais on ne connait pas ses successeurs.\n",
    " On dit que le sommet est **découvert** et **à explorer**.\n",
    " On détermine les successeurs de ce sommet. Le sommet n'est plus **à explorer**.  Les successeurs deviennent des sommets **découverts** et deviennent **à explorer**.\n",
    " On recommence en prenant un sommet dans les sommets qui restent à explorer.\n",
    " \n",
    " On maintient donc deux structures :\n",
    " * une structure _decouverts_ contenant les sommets découverts.\n",
    " * une structure _frontiere_ contenant les sommets à explorer. \n",
    " \n",
    "Remarque : Un sommet qui est dans la _frontiere_ est aussi dans _decouverts_.\n",
    " \n",
    " Comme il est inutile d'explorer deux fois le même sommet, on ne remet pas dans la _frontiere_ un sommet qui est déjà dans _decouverts_. \n",
    " \n",
    "Voyons cela sur notre exemple de la galaxie.\n",
    "\n",
    "Nous partons de A , donc \"A\" est dans_decouverts_"
   ]
  },
  {
   "cell_type": "code",
   "execution_count": 4,
   "metadata": {},
   "outputs": [
    {
     "data": {
      "text/plain": [
       "['B', 'C', 'D', 'E']"
      ]
     },
     "execution_count": 4,
     "metadata": {},
     "output_type": "execute_result"
    }
   ],
   "source": [
    "from galaxie import *\n",
    "decouverts = ['A']\n",
    "frontiere = ['A']\n",
    "# on chosit  un element dans frontiere et on l'explore \n",
    "# Ici il n'y a que 'A'\n",
    "successeurs = destinations('A')\n",
    "successeurs"
   ]
  },
  {
   "cell_type": "code",
   "execution_count": 6,
   "metadata": {},
   "outputs": [
    {
     "data": {
      "text/plain": [
       "['G', 'F']"
      ]
     },
     "execution_count": 6,
     "metadata": {},
     "output_type": "execute_result"
    }
   ],
   "source": [
    "# On a exploré \"A\", on le retire de la frontiere, \n",
    "# On ajoute les successeurs de \"A\" à la frontiere et dans visites\n",
    "frontiere = ['B', 'C', 'D', 'E']\n",
    "decouverts = ['A','B','C','D','E']\n",
    "\n",
    "# On recommence en prenant un sommet de la frontiere, par exemple 'B'\n",
    "successeurs = destinations('B')\n",
    "successeurs"
   ]
  },
  {
   "cell_type": "code",
   "execution_count": 7,
   "metadata": {},
   "outputs": [
    {
     "data": {
      "text/plain": [
       "['G', 'H', 'K']"
      ]
     },
     "execution_count": 7,
     "metadata": {},
     "output_type": "execute_result"
    }
   ],
   "source": [
    "# On a exploré \"B\", on le retire de la frontiere, \n",
    "# On ajoute les successeurs de \"B\" à la frontiere et dans visites\n",
    "frontiere = [ 'C', 'D', 'E','G','F']\n",
    "decouverts = ['A','B','C','D','E','G','F']\n",
    "\n",
    "# On recommence en prenant un sommet de la frontiere, par exemple 'C'\n",
    "successeurs = destinations('C')\n",
    "successeurs"
   ]
  },
  {
   "cell_type": "code",
   "execution_count": 8,
   "metadata": {},
   "outputs": [],
   "source": [
    "# On a exploré \"C\", on le retire de la frontiere, \n",
    "# On ajoute les successeurs de \"C\" à la frontiere et dans visites\n",
    "# Mais 'G' est déjà dans visiter et donc dans frontiere donc on ne le rajoute pas\n",
    "frontiere = ['D', 'E','G','F','H','K']\n",
    "decouverts = ['A','B','C','D','E','G','F','H','K']\n",
    "\n",
    "# On recommence en prenant un sommet de la frontiere, par exemple 'D'"
   ]
  },
  {
   "cell_type": "markdown",
   "metadata": {},
   "source": [
    "Evidemment on écrit un algorithme qui fait tout cela.\n",
    "\n",
    "---\n",
    "## Algorithme général de parcours d'un graphe\n",
    "\n",
    "```\n",
    "Algorithme exploration( g , s)\n",
    "   entrées : g un graphe , s un sommet \n",
    "   sortie : liste des sommet accessibles depuis s dans le graphe g\n",
    "   \n",
    "   decouverts : structure linéaire \n",
    "   frontiere : structure lineaire\n",
    "   \n",
    "   decouverts <- {s} \n",
    "   frontiere <- {s} \n",
    "   tant que frontiere est non vide \n",
    "       choisir et retirer un sommet u de la frontiere \n",
    "       pour v dans succ(u) \n",
    "           si v n'est pas dans decouverts \n",
    "               decouverts <- decouverts + {v} \n",
    "               frontiere <- frontiere + {v} \n",
    "           finsi \n",
    "       fin pour\n",
    "    fin tant que\n",
    "    \n",
    "    renvoyer visites \n",
    "fin              \n",
    "```\n",
    "\n",
    "---"
   ]
  },
  {
   "cell_type": "markdown",
   "metadata": {},
   "source": [
    "**L'ordre d'exploration des sommets du graphe dépend de l'ordre dans lequel on sort les sommets de la frontiere**\n",
    "\n",
    "\n",
    "Pour _frontiere_ on peut envisager deux structures :\n",
    "* Une Pile : les sommets sortent dans l'ordre **inverse** de leur ordre d'entrée.\n",
    "* Une file FIFO : les sommets sortent dans l'ordre de leur entrée.\n",
    "\n",
    "Pour la structure _decouverts_ , une liste est possible, le mieux étant un _ensemble_ mais la structure _ensemble_ n'est pas au programme de terminale NSI.\n",
    "\n",
    "---"
   ]
  },
  {
   "cell_type": "markdown",
   "metadata": {},
   "source": [
    "## Implémentation.\n",
    "\n",
    "L'implémentation de l'algorithme nécessite de disposer d'une fonction `successeur(sommet)`qui renvoie la liste des successeurs d'un sommet.\n",
    "Il faut donc écrire une telle fonction pour chaque implémentation, cela permet d'avoir un programme de parcours **indépendant** de l'implémentation choisie.\n",
    "\n",
    "Reprenons le graphe de la galaxie, la fonction `destinations` joue le role de la fonction successeur.\n",
    "\n",
    "Le graphe est stocké sous forme d'un dictionnaire galaxie tel que `galaxie[\"A\"]` est la liste des successeurs de \"A\".\n",
    "\n",
    "Ecris en Python un premier algorithme de parcours en choisissant une structure de Pile pour _frontiere_. A chaque fois que tu **explores** un sommet, fais afficher le message \"exploration de _nom_de_sommet_\" "
   ]
  },
  {
   "cell_type": "code",
   "execution_count": 5,
   "metadata": {},
   "outputs": [
    {
     "name": "stdout",
     "output_type": "stream",
     "text": [
      " Exploration de  A\n",
      " Exploration de  E\n",
      " Exploration de  M\n",
      " Exploration de  T\n",
      " Exploration de  L\n",
      " Exploration de  R\n",
      " Exploration de  V\n",
      " Exploration de  U\n",
      " Exploration de  S\n",
      " Exploration de  K\n",
      " Exploration de  P\n",
      " Exploration de  Q\n",
      " Exploration de  J\n",
      " Exploration de  N\n",
      " Exploration de  O\n",
      " Exploration de  I\n",
      " Exploration de  F\n",
      " Exploration de  D\n",
      " Exploration de  H\n",
      " Exploration de  C\n",
      " Exploration de  G\n",
      " Exploration de  B\n",
      "['A', 'B', 'C', 'D', 'E', 'F', 'I', 'M', 'L', 'T', 'K', 'R', 'S', 'V', 'U', 'J', 'P', 'Q', 'N', 'O', 'H', 'G']\n"
     ]
    }
   ],
   "source": [
    "def explore(g,s) :\n",
    "    # code à effacer dans la version élèves \n",
    "    decouverts = [s]        # Liste\n",
    "    frontiere = [s]      # Pile\n",
    "    while frontiere != [] :\n",
    "        u = frontiere.pop()  # On retire le sommet de la Pile\n",
    "        print(\" Exploration de \", u)\n",
    "        for v in g[u] :\n",
    "            if v not in visites :\n",
    "                decouverts.append(v)\n",
    "                frontiere.append(v) \n",
    "    return decouverts\n",
    "\n",
    "# code à laisser dans la version élèves\n",
    "from galaxie import *\n",
    "print(explore(galaxie , \"A\"))\n",
    "        \n",
    "    "
   ]
  },
  {
   "cell_type": "markdown",
   "metadata": {},
   "source": [
    "Demande au professeur deux exemplaire de la version papier du graphe de la galaxie et numérote les sommets dans leur ordre d'exploration.\n",
    "\n",
    "Ecris ensuite le même code mais avec une structure FIFO pour _frontiere_ et fais le même travail."
   ]
  },
  {
   "cell_type": "code",
   "execution_count": 6,
   "metadata": {},
   "outputs": [
    {
     "name": "stdout",
     "output_type": "stream",
     "text": [
      " Exploration de  A\n",
      " Exploration de  B\n",
      " Exploration de  C\n",
      " Exploration de  D\n",
      " Exploration de  E\n",
      " Exploration de  G\n",
      " Exploration de  F\n",
      " Exploration de  H\n",
      " Exploration de  K\n",
      " Exploration de  I\n",
      " Exploration de  L\n",
      " Exploration de  M\n",
      " Exploration de  J\n",
      " Exploration de  P\n",
      " Exploration de  R\n",
      " Exploration de  T\n",
      " Exploration de  N\n",
      " Exploration de  Q\n",
      " Exploration de  S\n",
      " Exploration de  V\n",
      " Exploration de  O\n",
      " Exploration de  U\n",
      "['A', 'B', 'C', 'D', 'E', 'G', 'F', 'H', 'K', 'I', 'L', 'M', 'J', 'P', 'R', 'T', 'N', 'Q', 'S', 'V', 'O', 'U']\n"
     ]
    }
   ],
   "source": [
    "def explore2(g,s) :\n",
    "    # code à effacer dans la version élèves \n",
    "    decouverts = [s]        # Liste\n",
    "    frontiere = [s]         # FIFO\n",
    "    while frontiere != [] :\n",
    "        u = frontiere.pop()  # On retire le sommet de la Pile\n",
    "        print(\" Exploration de \", u)\n",
    "        for v in g[u] :\n",
    "            if v not in visites :\n",
    "                decouverts.append(v)\n",
    "                frontiere.insert(0,v) \n",
    "    return visites\n",
    "\n",
    "# code à laisser dans la version élèves\n",
    "from galaxie import *\n",
    "print(explore2(galaxie , \"A\"))\n",
    "        "
   ]
  },
  {
   "cell_type": "markdown",
   "metadata": {},
   "source": [
    "L'un des parcours s'appelle **\"parcours en largeur\"** et l'autre **\"parcours en profondeur\"**. Attribue son nom à chaque parcours. "
   ]
  },
  {
   "cell_type": "markdown",
   "metadata": {},
   "source": [
    "--- \n",
    "\n",
    "## **II. Recherche d'un chemin**"
   ]
  },
  {
   "cell_type": "markdown",
   "metadata": {},
   "source": [
    "**Problème** : Soit $G$ un graphe, $u$ et $v$ deux sommets de $G$. Existe t-il un chemin de $u$ à $v$ dans le graphe ? et si oui quel est-il ? \n",
    "\n",
    "**Solution** : S'il existe un chemin de $u$ à $v$ alors $v$ est accessible depuis $u$. Donc lors de l'exploration du graphe à partir de $u$ on va découvrir $v$. On explore donc le graphe jusqu'à trouver $v$. De plus lors de ce parcours, on note, pour chaque sommet découverts le prédecesseur qui a permis de le découvrir. Si on trouve $v$ on pourra reconstruire le chemin de $u$ à $v$ avec cette trace.\n",
    "\n",
    "Si lors du parcours on ne rencontre pas $v$ c'est qu'il n'y a pas de chemin.\n",
    "\n",
    "---"
   ]
  },
  {
   "cell_type": "markdown",
   "metadata": {},
   "source": [
    "## Algorithme général de recherche de chemin dans un graphe \n",
    "\n",
    "```\n",
    "Algorithme chemin( g , s, t)\n",
    "   entrées : g un graphe , s un sommet , t un sommet\n",
    "   sortie :liste contenant un chemin [u0 = s, u1, u2, ..., un= t] si un tel chemin                existe \n",
    "           \n",
    "   decouverts : structure linéaire \n",
    "   frontiere : structure lineaire\n",
    "   pred : tableau associatif \n",
    "   \n",
    "   decouverts <- {s} \n",
    "   frontiere <- {s} \n",
    "   pred <- {}\n",
    "   tant que frontiere est non vide \n",
    "       choisir et retirer un sommet u de la frontiere \n",
    "       pour v dans succ(u) \n",
    "           si v n'est pas dans decouverts \n",
    "               decouverts <- decouverts + {v} \n",
    "               frontiere <- frontiere + {v} \n",
    "               pred[v] = u \n",
    "               si v = t : renvoyer reconstituer_chemin( pred, s, t)\n",
    "           finsi \n",
    "       fin pour\n",
    "    fin tant que\n",
    "    \n",
    "    renvoyer liste_vide \n",
    "fin  \n",
    "\n",
    "Algorithme reconstituer_chemin( pred, s, t)\n",
    "     entrées : pred tableau associatif donnant le prédécesseur d'un sommet\n",
    "              s un sommet , t un sommet\n",
    "     sortie : une liste [u0, ..., un] avec u0 = s , un = t et uk = pred[uk+1]\n",
    "     \n",
    "     chemin = [t] \n",
    "     sommet = t\n",
    "     tant que pred[sommet] différent de Null \n",
    "         inserer pred[sommet] en tete de chemin \n",
    "         sommet = pred[sommet]\n",
    "     renvoyer chemin\n",
    "```\n",
    "\n",
    "----"
   ]
  },
  {
   "cell_type": "markdown",
   "metadata": {},
   "source": [
    "## **III Détection d'un cycle dans un graphe non orienté.**\n",
    "**Problème** : Soit $G$ un graphe **non orienté**. Existe t-il une chaîne dont le premier sommet est identique au dernier dans le graphe ?  \n",
    "\n",
    "**Solution** : S'il existe \n",
    "\n",
    "Si lors du parcours on ne rencontre pas $v$ c'est qu'il n'y a pas de chemin."
   ]
  }
 ],
 "metadata": {
  "kernelspec": {
   "display_name": "Python 3",
   "language": "python",
   "name": "python3"
  },
  "language_info": {
   "codemirror_mode": {
    "name": "ipython",
    "version": 3
   },
   "file_extension": ".py",
   "mimetype": "text/x-python",
   "name": "python",
   "nbconvert_exporter": "python",
   "pygments_lexer": "ipython3",
   "version": "3.6.10"
  }
 },
 "nbformat": 4,
 "nbformat_minor": 4
}
