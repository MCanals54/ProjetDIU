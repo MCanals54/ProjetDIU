{
 "cells": [
  {
   "cell_type": "markdown",
   "metadata": {},
   "source": [
    "# **Les graphes simples**\n",
    "\n",
    "## Introduction \n",
    "Dans le cours précédent nous avons étudié des graphes orientés. Les situations étudiées imposait l'orientation, ordre des taches, irréversibilité des actions ...\n",
    "\n",
    "Dans de nombreuses situations la relation entre deux objets est symétrique. Prenons quelques exemples :\n",
    "* Dans un réseau informatique, lorsque deux points du réseau sont reliés par une ligne il n'est pas nécessaire d'orienter la relation.\n",
    "\n",
    "<img src=\"./images/Arpanet.jpg\" alt=\"drawing\"  width=\"300\"/>\n",
    "Graphe du réseau Arpanet, ancêtre d'Internet au Etats Unis.\n",
    "\n",
    "<img src=\"./images/internet.PNG\" alt=\"drawing\" width=\"300\" />\n",
    "Une partie du graphe du réseau Internet actuel.\n",
    "\n",
    "* Dans un réseau solcial on peut représenter le graphe des relations d'amitié\"\n",
    "<img src=\"./images/graphe_amis.PNG\" alt=\"drawing\" width=\"200\" />\n",
    "\n",
    "* Le réseau autoroutier français n'est pas orienté car les voies de circulation sont à double sens.\n",
    "<img src=\"./images/autoroutes.png\" alt=\"drawing\"  width=\"200\"/>\n",
    "\n",
    "* Sur un échiquier le cavalier se déplace en L. Si le cavalier peut aller d'une position A à une position B alors il peut aller de B à A. \n",
    "<img src=\"./images/cavalier.PNG\" alt=\"drawing\" />\n"
   ]
  },
  {
   "cell_type": "markdown",
   "metadata": {},
   "source": [
    "---\n",
    "## Définitions\n",
    "\n",
    "Un **graphe simple** $G$, ou encore **graphe non orienté**, est défini par un ensemble $S$ de sommets et un ensemble $A$ d'**arêtes**. On le note $G=(S,A)$\n",
    "Une **arete** est une **paire** $\\{ u , v\\}$  de sommets **distincts**.\n",
    "\n",
    "$u$ et $v$ sont les **extrémités** de l'arête $\\{ u , v\\}$.\n",
    "\n",
    "**Attention** :\n",
    "* dans une paire, l'ordre n'a pas d'importance contrairement à un couple. $\\{ u , v\\} = \\{ v , u\\} $\n",
    "* Dans un graphe simple il n'y a pas d'arète entre un sommet et lui même.\n",
    "\n",
    "Une **chaîne** est une suite de sommets reliés par des arètes. Cela correspond à la notion de chemin pour les graphes orientés.\n",
    "\n",
    "--- \n"
   ]
  },
  {
   "cell_type": "markdown",
   "metadata": {},
   "source": [
    "## **Implémentations.**\n",
    "\n",
    "Soit $G = (S, A)$ un graphe simple, ce graphe est équivalent au graphe orienté $G' = (S,A')$, avec $A'= \\{ (u,v),(v,u) / \\{u,v\\}\\in A \\} $\n",
    "\n",
    "C'est à dire que l'on peut remplacer chaque arête de A par deux arcs.\n",
    "\n",
    "| graphe simple | graphe orienté équivalent |\n",
    "| :-:| :-:|\n",
    "|<img src=\"./images/graphe_simple.png\" alt=\"drawing\"  width=\"150\"/>|<img src=\"./images/graphe_oriente_symetrique.png\" alt=\"drawing\"  width=\"150\"/>|\n",
    "\n",
    "\n",
    "Cela signifie que l'on peut utiliser les mêmes implémentations pour les graphes simples que pour les graphes orientés.\n",
    "\n",
    "Il faut parfois quelques modifications, par exemple lorsqu'on ajoute l'arête ${u, v} $ au graphe, il faut ajouter $v$ dans la liste des successeurs de $u$ et $u$ dans la liste des successeurs de $v$.\n",
    "\n",
    "---\n",
    "\n"
   ]
  },
  {
   "cell_type": "markdown",
   "metadata": {},
   "source": [
    "## Exercices"
   ]
  }
 ],
 "metadata": {
  "kernelspec": {
   "display_name": "Python 3",
   "language": "python",
   "name": "python3"
  },
  "language_info": {
   "codemirror_mode": {
    "name": "ipython",
    "version": 3
   },
   "file_extension": ".py",
   "mimetype": "text/x-python",
   "name": "python",
   "nbconvert_exporter": "python",
   "pygments_lexer": "ipython3",
   "version": "3.6.10"
  }
 },
 "nbformat": 4,
 "nbformat_minor": 4
}
