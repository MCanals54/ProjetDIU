{
 "cells": [
  {
   "cell_type": "markdown",
   "metadata": {},
   "source": [
    "# Exercices sur les graphes."
   ]
  },
  {
   "cell_type": "markdown",
   "metadata": {},
   "source": [
    "<h2 id=exercice1> Exercice 1 </h2>\n",
    "<img src=\"images/graphe_exo1.png\" alt=\"drawing\" width=\"200\"/>\n",
    "\n",
    "1. Détermine l'ensemble des sommets et l'ensemble des arcs de ce graphe.\n",
    "2. Détermine $pred(1)$ et $succ(2)$"
   ]
  },
  {
   "cell_type": "markdown",
   "metadata": {},
   "source": [
    "<h2 id=exercice2> Exercice 2 </h2>\n",
    "Soit $G = (S,A)$ avec $S =\\{1,2,3,4,5\\}$ et $A = \\{(1,2),(1,3),(1,4),(1,5),(2,3),(3,4),(4,5),(5,2) \\}$\n",
    "\n",
    "1. Détermine $pred(1)$ et $succ(1)$\n",
    "2. Dessine ce graphe"
   ]
  },
  {
   "cell_type": "markdown",
   "metadata": {},
   "source": [
    "<h2 id=exercice3> Exercice 3 </h2> enfin un peu de code\n",
    "\n",
    "Soit $G$ un graphe dont l'ensemble des sommets est $S=\\{a,b,c,d,e,f\\}$\n",
    "\n",
    "On donne \n",
    "$succ(a)={c}$, $succ(b) =\\{c,e\\}$ , $succ(c)=\\{b\\}$ , $succ(d)=\\{b,\\}$ , $succ(e) = \\{f\\} $ , $succ(f)= \\{e\\} $.\n",
    "\n",
    "1. Sans faire de dessin, détermine les ensembles de prédecesseurs de chacun des sommets de $G$. \n",
    "2. Peut-on aller de $a$ à $f$ en suivant des arcs ?\n",
    "3. Vérifie en faisant un dessin.\n",
    "4. On implémente les ensembles de successeurs à l'aide d'un **dictionnaire**\n",
    "\n",
    "{ _sommet_ : _liste des successeurs_ , ...}\n",
    "\n",
    "```python\n",
    "successeurs = { \"a\" : [\"c\"] , \"b\" :[\"c\",\"e\"] , ... }\n",
    "```\n",
    "4. 1. Exécute la commande Python dans la cellule ci-dessous."
   ]
  },
  {
   "cell_type": "code",
   "execution_count": 2,
   "metadata": {},
   "outputs": [],
   "source": [
    "sommets= [\"a\", \"b\", \"c\", \"d\", \"e\", \"f\"]\n",
    "successeurs = { \"a\" : [\"c\"] , \"b\" :[\"c\",\"e\"]  }"
   ]
  },
  {
   "cell_type": "markdown",
   "metadata": {},
   "source": [
    "Ecris une commande permettant d'ajouter la liste des successeurs de \"c\" à ce dictionnaire. Ajoute ensuite les successeurs des autres sommets. "
   ]
  },
  {
   "cell_type": "code",
   "execution_count": null,
   "metadata": {},
   "outputs": [],
   "source": []
  },
  {
   "cell_type": "markdown",
   "metadata": {},
   "source": [
    "Ecris une fonction `est_un_arc( couple, succ)` qui renvoie `True` si couple est un arc du graphe dont `succ`est le disctionnaire des successeurs.\n",
    "Par exemple \n",
    "```python \n",
    "est_un_arc( (\"a\",\"c\") , successeurs) \n",
    "``` \n",
    "renvoie `True`\n",
    "Alors que \n",
    "```python \n",
    "est_un_arc( (\"a\",\"d\") , successeurs) \n",
    "``` \n",
    "renvoie `False`"
   ]
  },
  {
   "cell_type": "code",
   "execution_count": null,
   "metadata": {},
   "outputs": [],
   "source": []
  },
  {
   "cell_type": "markdown",
   "metadata": {},
   "source": [
    "On va construire la liste des prédécesseurs à partir de la liste des successeurs.\n",
    "1. Si  $y \\in succ(x) $  qu'en déduit-on pour les prédécesseurs ?\n",
    "2. Complète la commande qui initialise le dictionnaire des successeurs à partir de la liste des sommets. On doit obtenir `predecesseurs = { \"a\" : [] , \"b\": [] , ...}`\n",
    "3. Complète séquence de commandes permettant de compléter le dictionnaire des prédécesseurs à partir du dictionnaire des successeurs.\n",
    "4. "
   ]
  },
  {
   "cell_type": "code",
   "execution_count": 3,
   "metadata": {},
   "outputs": [],
   "source": [
    "# Initialisation du dictionnaire (question )\n",
    "predecesseurs = {}\n",
    "# On complète \n",
    "for sommet in sommets :\n",
    "    "
   ]
  },
  {
   "cell_type": "code",
   "execution_count": 4,
   "metadata": {},
   "outputs": [
    {
     "data": {
      "text/plain": [
       "{'a': [], 'b': [], 'c': [], 'd': [], 'e': [], 'f': []}"
      ]
     },
     "execution_count": 4,
     "metadata": {},
     "output_type": "execute_result"
    }
   ],
   "source": [
    "predecesseurs "
   ]
  },
  {
   "cell_type": "code",
   "execution_count": null,
   "metadata": {},
   "outputs": [],
   "source": []
  }
 ],
 "metadata": {
  "kernelspec": {
   "display_name": "Python 3",
   "language": "python",
   "name": "python3"
  },
  "language_info": {
   "codemirror_mode": {
    "name": "ipython",
    "version": 3
   },
   "file_extension": ".py",
   "mimetype": "text/x-python",
   "name": "python",
   "nbconvert_exporter": "python",
   "pygments_lexer": "ipython3",
   "version": "3.6.10"
  }
 },
 "nbformat": 4,
 "nbformat_minor": 4
}
