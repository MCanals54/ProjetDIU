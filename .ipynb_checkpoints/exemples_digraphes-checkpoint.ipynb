{
 "cells": [
  {
   "cell_type": "markdown",
   "metadata": {},
   "source": [
    "# **Exemples d'applications de la notion de graphe orienté**\n",
    "Cette section du cours te permet de découvrir des applications de la notion de graphe orienté pour des problèmes concrets.\n"
   ]
  },
  {
   "cell_type": "markdown",
   "metadata": {},
   "source": [
    "## **Exemple 1** Organisation de métiers\n",
    "Sur le chantier d'un bâtiment plusieurs corps de métier doivent intervenir. Il y a des impératifs d'enchainement des différents métiers. Par exemple l'électricien veut intervenir après le peintre et le peintre veut intervenir après le plaquiste et le maçon. Pour l'organisateur du chantier il faut voir si les exigences de chacun sont compatibles et proposer une solution simple pour régler les conflits.\n",
    "\n",
    "| métier | intervient après |\n",
    "|:- |:- |\n",
    "|électricien | peintre, carreleur, couvreur |\n",
    "|peintre | maçon ,plaquiste |\n",
    "|menuisier | maçon, carreleur, couvreur |\n",
    "|maçon | couvreur |\n",
    "|couvreur | charpentier |\n",
    "|charpentier | maçon |\n",
    "|carreleur | maçon, peintre, plombier |\n",
    "|plombier| maçon , electricien |\n",
    "|plaquiste | maçon, couvreur |\n",
    "|soliste | tous les autres |\n",
    "\n",
    "1. Dessine le graphe orienté dont les sommets sont les différents métiers et où un arc $A \\rightarrow B$ signifie que $B$ veut intervenir après $A$.\n",
    "2. Comment voit-on sur le graphe \n",
    " * le métier qui intervient en premier ?\n",
    " * le métier qui intervient en dernier ?\n",
    " * les conflits ?\n",
    "\n",
    "---"
   ]
  },
  {
   "cell_type": "markdown",
   "metadata": {},
   "source": [
    "## **Exemple 2** Le problème des bidons\n",
    "Dans le film Die Hard 3 (Une journée en enfer), les deux héros, John McClane et Zeus Carver, doivent résoudre l’énigme de Simon Gruber pour arrêter le compte à rebours d’une bombe. Voici l’énigme : « Sur la fontaine, il y a deux bidons : l’un a une contenance de 5 gallons, l’autre de 3 gallons. Remplissez l’un des bidons de 4 gallons d’eau exactement et placez-le sur la balance. La minuterie s’arrêtera. Soyez extrêmement précis : un gramme de plus ou de moins et c’est l’explosion ! ». Les nerfs de John McClane sont alors mis à rude épreuve pour trouver une solution. Il commence par remarquer très justement qu’on ne peut pas remplir le bidon de 3 gallons avec 4 gallons d’eau. Il faut donc trouver le moyen de mettre exactement 4 gallons d’eau dans le bidon de 5 gallons. Dans la scène du film (que vous pouvez consulter en français sur\n",
    "https://www.youtube.com/watch?v=pmk2mNf9iqE), John commence par donner une première idée peu convaincante puisqu’elle termine par la nécessité de remplir le bidon de 3 gallons au tiers, ce qu’on ne sait faire précisément... Le film propose ensuite une\n",
    "solution très partielle, coupée au montage. Appliquons donc des méthodes de graphes\n",
    "orientés pour retrouver la meilleure solution possible que les héros appliquent pour\n",
    "s’en sortir.\n",
    "Une configuration du système correspond au volume d’eau contenu dans chacun des deux bidons. On peut donc représenter une telle configuration par une paire $(a , b)$ où a est le volume d’eau contenu dans le bidon de 5 gallons et b le volume d’eau contenu dans le bidon de 3 gallons, avec $0 \\le a \\le 5$ et $0 \\le b \\le 3$. Les actions élémentaires possibles du système sont de remplir un des deux bidons (qu’il soit initialement vide ou pas), vider un des deux bidons (qu’il soit initialement plein ou pas) et transférer le contenu d’un des bidons dans l’autre jusqu’à ce que ce dernier soit plein.\n",
    "\n",
    "1. Ecrire en Python les fonctions qui correspondent à chacune des actions.\n",
    " Chaque fonction a pour argument une configuration qui est un tuple $(a,b)$ et doit    renvoyer la configuration obtenue après l'action.\n",
    "\n",
    "```python\n",
    "remplir_A (config) \n",
    "remplir_B (config) \n",
    "vider_A(config)\n",
    "vider_B(config)\n",
    "transfere_A_B(config)\n",
    "transfere_B_A(config)\n",
    "```\n",
    " Ecris aussi une fonction \n",
    " ```python\n",
    "est_terminale(config) \n",
    "```\n",
    "qui renvoie `True`si la configuration est de la forme $(4,b)$"
   ]
  },
  {
   "cell_type": "code",
   "execution_count": 47,
   "metadata": {},
   "outputs": [],
   "source": [
    "# code à effacer version élèves\n",
    "def remplir_A(config) :\n",
    "    a,b = config\n",
    "    return 5, b\n",
    "\n",
    "def remplir_B(config) :\n",
    "    a,b = config\n",
    "    return a, 3\n",
    "\n",
    "def vider_A(config) :\n",
    "    a,b = config\n",
    "    return 0, b\n",
    "\n",
    "def vider_B(config) :\n",
    "    a,b = config\n",
    "    return a, 0\n",
    "\n",
    "def transfere_A_B(config) :\n",
    "    a,b = config\n",
    "    place_dans_b = 3-b\n",
    "    transfert = min (a, place_dans_b)\n",
    "    return a-transfert, b+transfert\n",
    "\n",
    "def transfere_B_A(config) :\n",
    "    a,b = config\n",
    "    place_dans_a = 5-a\n",
    "    transfert = min (b, place_dans_a)\n",
    "    return a+transfert, b-transfert\n",
    "\n",
    "def est_terminale(config) : \n",
    "    a,b = config\n",
    "    return a == 4"
   ]
  },
  {
   "cell_type": "markdown",
   "metadata": {},
   "source": [
    "**Il est important que tes fonctions soient correctes. Voici un jeu de tests, à toi de le compléter pour tester chaque fonction.**"
   ]
  },
  {
   "cell_type": "code",
   "execution_count": 14,
   "metadata": {},
   "outputs": [],
   "source": [
    "initial = (0,0)\n",
    "config1 = (5,0)\n",
    "config2 = (0,3)\n",
    "config3 = (2,3)\n",
    "\n",
    "# test de remplir_A \n",
    "assert( remplir_A(initial) == (5,0) )\n",
    "assert( remplir_A(config1) == (5,0) )\n",
    "assert( remplir_A(config2) == (5,3) )\n",
    "\n",
    "# test de remplir_B\n",
    "assert( remplir_B(initial) == (0,3) )\n",
    "\n",
    "# test de vider_A \n",
    "assert( vider_A(config1) == (0,0) )\n",
    "\n",
    "# test de vider_B\n",
    "assert( vider_B(config1) == (5,0) )\n",
    "\n",
    "#test de transfere_A_B\n",
    "assert( transfere_A_B(config1) == (2,3) \n",
    "       \n",
    "#test de transfere_B_A \n"
   ]
  },
  {
   "cell_type": "markdown",
   "metadata": {},
   "source": [
    " Les configurations possibles du système en partant de (0,0) s'organisent selon un graphe orienté dont voici le début (on a écrit sur les arètes les actions effectuées)\n",
    "\n",
    "<img src=\"images/graphe_bidons.png\" alt=\"drawing\" width=\"200\"/>\n",
    "\n",
    " Nous allons écrire un algorithme qui construit le graphe de toutes les configurations possibles, en conservant l'information de l'action sur les arètes.\n",
    " \n",
    "2. **Recherche des successeurs**\n",
    " La liste des actions possibles est"
   ]
  },
  {
   "cell_type": "code",
   "execution_count": 15,
   "metadata": {},
   "outputs": [],
   "source": [
    "actions = [remplir_A, remplir_B, vider_A, vider_B, transfere_A_B, transfere_B_A]"
   ]
  },
  {
   "cell_type": "markdown",
   "metadata": {},
   "source": [
    "Le graphe sera stocké par liste d'adjacence selon un **dictionnaire** dont les clés sont des tuples (configurations) et chaque valeur est un dictionnaire { tuple : str , tuple : str, ...} des configurations atteignables.\n",
    "\n",
    "Exemple, en partant de la configuration $(0,0)$ on a\n",
    "\n",
    "$(0,0) \\stackrel{\\text{vider_A }}{\\longrightarrow} (0,0) $ \n",
    "\n",
    "$(0,0) \\stackrel{\\text{remplir_A }}{\\longrightarrow} (5,0)$\n",
    "\n",
    "$ (0,0) \\stackrel{\\text{remplir_B }}{\\longrightarrow} (0,3)$.\n",
    "\n",
    "On doit avoir dans le dictionnaire :\n",
    "```python\n",
    "{ (0,0) : {(0,0): \"vider_A\",\n",
    "           (5,0): \"remplir_A\",\n",
    "           (0,3): \"remplir_B\" } ,\n",
    " # \n",
    "}\n",
    "```\n",
    "\n",
    "**Ecrire** une fonction `successeurs(config)` qui renvoie le dictionnaire des configurations atteignables depuis config.\n",
    "\n",
    "`successeurs((0,0))` \n",
    " doit renvoyer\n",
    "\n",
    "`{(5, 0): 'remplir_A', (0, 3): 'remplir_B', (0, 0): 'vider_A'}`\n",
    "\n",
    "Aide : si action est un élément de la liste `actions` on a le code \n",
    "```python \n",
    "s = action(config)     # s est le successeur de config avec l'action \n",
    "nom = action.__name__  # name est une (str) contenant le nom de la fonction\n"
   ]
  },
  {
   "cell_type": "code",
   "execution_count": 24,
   "metadata": {},
   "outputs": [],
   "source": [
    "def successeurs(config) :\n",
    "    # code à effacer version élèves\n",
    "    dict_succ = dict()\n",
    "    for action in actions :\n",
    "        succ = action(config) \n",
    "        if succ not in dict_succ : dict_succ[succ] = action.__name__\n",
    "    return dict_succ"
   ]
  },
  {
   "cell_type": "markdown",
   "metadata": {},
   "source": [
    "N'oublie pas de tester cette fonction"
   ]
  },
  {
   "cell_type": "code",
   "execution_count": 23,
   "metadata": {},
   "outputs": [
    {
     "data": {
      "text/plain": [
       "{(5, 0): 'remplir_A', (0, 3): 'remplir_B', (0, 0): 'vider_A'}"
      ]
     },
     "execution_count": 23,
     "metadata": {},
     "output_type": "execute_result"
    }
   ],
   "source": [
    "successeurs((0,0))"
   ]
  },
  {
   "cell_type": "code",
   "execution_count": 25,
   "metadata": {},
   "outputs": [
    {
     "data": {
      "text/plain": [
       "{(5, 1): 'remplir_A',\n",
       " (1, 3): 'remplir_B',\n",
       " (0, 1): 'vider_A',\n",
       " (1, 0): 'vider_B',\n",
       " (0, 2): 'transfere_A_B',\n",
       " (2, 0): 'transfere_B_A'}"
      ]
     },
     "execution_count": 25,
     "metadata": {},
     "output_type": "execute_result"
    }
   ],
   "source": [
    "successeurs((1,1))"
   ]
  },
  {
   "cell_type": "markdown",
   "metadata": {},
   "source": [
    "3. **Construction du graphe**\n",
    "Sachant que l'on a $0 \\le a \\ le 5 $ et $0 \\le b \\le 3 $, combien de configurations possibles y a t-il ?\n",
    "\n",
    " Ecris un script Python qui renvoie la liste de toutes les configurations."
   ]
  },
  {
   "cell_type": "code",
   "execution_count": 27,
   "metadata": {
    "collapsed": true,
    "jupyter": {
     "outputs_hidden": true
    }
   },
   "outputs": [
    {
     "data": {
      "text/plain": [
       "[(0, 0),\n",
       " (0, 1),\n",
       " (0, 2),\n",
       " (0, 3),\n",
       " (1, 0),\n",
       " (1, 1),\n",
       " (1, 2),\n",
       " (1, 3),\n",
       " (2, 0),\n",
       " (2, 1),\n",
       " (2, 2),\n",
       " (2, 3),\n",
       " (3, 0),\n",
       " (3, 1),\n",
       " (3, 2),\n",
       " (3, 3),\n",
       " (4, 0),\n",
       " (4, 1),\n",
       " (4, 2),\n",
       " (4, 3),\n",
       " (5, 0),\n",
       " (5, 1),\n",
       " (5, 2),\n",
       " (5, 3)]"
      ]
     },
     "execution_count": 27,
     "metadata": {},
     "output_type": "execute_result"
    }
   ],
   "source": [
    "# code à supprimer dans la version élèves\n",
    "configurations = [ (a,b) for a in range(6) for b in range(4)]\n",
    "configurations"
   ]
  },
  {
   "cell_type": "markdown",
   "metadata": {},
   "source": [
    "Ecris ensuite un script qui construit le dictionnaire { config : dictionnaire des configurations atteignables } "
   ]
  },
  {
   "cell_type": "code",
   "execution_count": 29,
   "metadata": {
    "collapsed": true,
    "jupyter": {
     "outputs_hidden": true
    }
   },
   "outputs": [
    {
     "data": {
      "text/plain": [
       "{(0, 0): {(5, 0): 'remplir_A', (0, 3): 'remplir_B', (0, 0): 'vider_A'},\n",
       " (0, 1): {(5, 1): 'remplir_A',\n",
       "  (0, 3): 'remplir_B',\n",
       "  (0, 1): 'vider_A',\n",
       "  (0, 0): 'vider_B',\n",
       "  (1, 0): 'transfere_B_A'},\n",
       " (0, 2): {(5, 2): 'remplir_A',\n",
       "  (0, 3): 'remplir_B',\n",
       "  (0, 2): 'vider_A',\n",
       "  (0, 0): 'vider_B',\n",
       "  (2, 0): 'transfere_B_A'},\n",
       " (0, 3): {(5, 3): 'remplir_A',\n",
       "  (0, 3): 'remplir_B',\n",
       "  (0, 0): 'vider_B',\n",
       "  (3, 0): 'transfere_B_A'},\n",
       " (1, 0): {(5, 0): 'remplir_A',\n",
       "  (1, 3): 'remplir_B',\n",
       "  (0, 0): 'vider_A',\n",
       "  (1, 0): 'vider_B',\n",
       "  (0, 1): 'transfere_A_B'},\n",
       " (1, 1): {(5, 1): 'remplir_A',\n",
       "  (1, 3): 'remplir_B',\n",
       "  (0, 1): 'vider_A',\n",
       "  (1, 0): 'vider_B',\n",
       "  (0, 2): 'transfere_A_B',\n",
       "  (2, 0): 'transfere_B_A'},\n",
       " (1, 2): {(5, 2): 'remplir_A',\n",
       "  (1, 3): 'remplir_B',\n",
       "  (0, 2): 'vider_A',\n",
       "  (1, 0): 'vider_B',\n",
       "  (0, 3): 'transfere_A_B',\n",
       "  (3, 0): 'transfere_B_A'},\n",
       " (1, 3): {(5, 3): 'remplir_A',\n",
       "  (1, 3): 'remplir_B',\n",
       "  (0, 3): 'vider_A',\n",
       "  (1, 0): 'vider_B',\n",
       "  (4, 0): 'transfere_B_A'},\n",
       " (2, 0): {(5, 0): 'remplir_A',\n",
       "  (2, 3): 'remplir_B',\n",
       "  (0, 0): 'vider_A',\n",
       "  (2, 0): 'vider_B',\n",
       "  (0, 2): 'transfere_A_B'},\n",
       " (2, 1): {(5, 1): 'remplir_A',\n",
       "  (2, 3): 'remplir_B',\n",
       "  (0, 1): 'vider_A',\n",
       "  (2, 0): 'vider_B',\n",
       "  (0, 3): 'transfere_A_B',\n",
       "  (3, 0): 'transfere_B_A'},\n",
       " (2, 2): {(5, 2): 'remplir_A',\n",
       "  (2, 3): 'remplir_B',\n",
       "  (0, 2): 'vider_A',\n",
       "  (2, 0): 'vider_B',\n",
       "  (1, 3): 'transfere_A_B',\n",
       "  (4, 0): 'transfere_B_A'},\n",
       " (2, 3): {(5, 3): 'remplir_A',\n",
       "  (2, 3): 'remplir_B',\n",
       "  (0, 3): 'vider_A',\n",
       "  (2, 0): 'vider_B',\n",
       "  (5, 0): 'transfere_B_A'},\n",
       " (3, 0): {(5, 0): 'remplir_A',\n",
       "  (3, 3): 'remplir_B',\n",
       "  (0, 0): 'vider_A',\n",
       "  (3, 0): 'vider_B',\n",
       "  (0, 3): 'transfere_A_B'},\n",
       " (3, 1): {(5, 1): 'remplir_A',\n",
       "  (3, 3): 'remplir_B',\n",
       "  (0, 1): 'vider_A',\n",
       "  (3, 0): 'vider_B',\n",
       "  (1, 3): 'transfere_A_B',\n",
       "  (4, 0): 'transfere_B_A'},\n",
       " (3, 2): {(5, 2): 'remplir_A',\n",
       "  (3, 3): 'remplir_B',\n",
       "  (0, 2): 'vider_A',\n",
       "  (3, 0): 'vider_B',\n",
       "  (2, 3): 'transfere_A_B',\n",
       "  (5, 0): 'transfere_B_A'},\n",
       " (3, 3): {(5, 3): 'remplir_A',\n",
       "  (3, 3): 'remplir_B',\n",
       "  (0, 3): 'vider_A',\n",
       "  (3, 0): 'vider_B',\n",
       "  (5, 1): 'transfere_B_A'},\n",
       " (4, 0): {(5, 0): 'remplir_A',\n",
       "  (4, 3): 'remplir_B',\n",
       "  (0, 0): 'vider_A',\n",
       "  (4, 0): 'vider_B',\n",
       "  (1, 3): 'transfere_A_B'},\n",
       " (4, 1): {(5, 1): 'remplir_A',\n",
       "  (4, 3): 'remplir_B',\n",
       "  (0, 1): 'vider_A',\n",
       "  (4, 0): 'vider_B',\n",
       "  (2, 3): 'transfere_A_B',\n",
       "  (5, 0): 'transfere_B_A'},\n",
       " (4, 2): {(5, 2): 'remplir_A',\n",
       "  (4, 3): 'remplir_B',\n",
       "  (0, 2): 'vider_A',\n",
       "  (4, 0): 'vider_B',\n",
       "  (3, 3): 'transfere_A_B',\n",
       "  (5, 1): 'transfere_B_A'},\n",
       " (4, 3): {(5, 3): 'remplir_A',\n",
       "  (4, 3): 'remplir_B',\n",
       "  (0, 3): 'vider_A',\n",
       "  (4, 0): 'vider_B',\n",
       "  (5, 2): 'transfere_B_A'},\n",
       " (5, 0): {(5, 0): 'remplir_A',\n",
       "  (5, 3): 'remplir_B',\n",
       "  (0, 0): 'vider_A',\n",
       "  (2, 3): 'transfere_A_B'},\n",
       " (5, 1): {(5, 1): 'remplir_A',\n",
       "  (5, 3): 'remplir_B',\n",
       "  (0, 1): 'vider_A',\n",
       "  (5, 0): 'vider_B',\n",
       "  (3, 3): 'transfere_A_B'},\n",
       " (5, 2): {(5, 2): 'remplir_A',\n",
       "  (5, 3): 'remplir_B',\n",
       "  (0, 2): 'vider_A',\n",
       "  (5, 0): 'vider_B',\n",
       "  (4, 3): 'transfere_A_B'},\n",
       " (5, 3): {(5, 3): 'remplir_A', (0, 3): 'vider_A', (5, 0): 'vider_B'}}"
      ]
     },
     "execution_count": 29,
     "metadata": {},
     "output_type": "execute_result"
    }
   ],
   "source": [
    "# code  à supprimer dans la version élèves\n",
    "graphe = { config : successeurs(config) for config in configurations} \n",
    "graphe"
   ]
  },
  {
   "cell_type": "markdown",
   "metadata": {},
   "source": [
    "4. **Parcours du graphe** \n",
    "Ecris un algorithme qui parcourt le graphe en largeur en partant de la configuration initiale (0,0) jusqu'à arriver à une configuration de la forme (4,b). \n",
    "Lorsque l'algorithme rencontre une telle configuration il renvoie True.\n",
    "Si le parcours se termine sans avoir rencontré une configuration de la forme (4,b) l'algorithme renvoie False.\n",
    "\n",
    "\n",
    "Au fur et à mesure de l'exploration, l'algorithme complète un dictionnaire des predecesseurs permettant "
   ]
  },
  {
   "cell_type": "code",
   "execution_count": 56,
   "metadata": {},
   "outputs": [],
   "source": [
    "def explore_graphe(g,s):\n",
    "    \"\"\" explore le graphe g à partir du sommet s à la recherche d'un sommet terminal\n",
    "        renvoie le sommet trouve ou None si l'exploration ne trouve pas  \"\"\"\n",
    "    visites = [s]    # liste des sommets visités\n",
    "    file = [s] # File FIFO des sommets à traiter \n",
    "    while file != [] :\n",
    "        # code à supprimer en version élèves\n",
    "        sommet = file.pop() \n",
    "        for successeur in g[sommet] :\n",
    "            if successeur not in visites : \n",
    "                visites.append(successeur)\n",
    "                if est_terminale(successeur): return successeur\n",
    "                file.insert(0,successeur)\n",
    "                \n",
    "    "
   ]
  },
  {
   "cell_type": "code",
   "execution_count": 58,
   "metadata": {},
   "outputs": [
    {
     "data": {
      "text/plain": [
       "(4, 3)"
      ]
     },
     "execution_count": 58,
     "metadata": {},
     "output_type": "execute_result"
    }
   ],
   "source": [
    "explore_graphe(graphe, (0,0))"
   ]
  },
  {
   "cell_type": "markdown",
   "metadata": {},
   "source": [
    "Modifie ce code pour qu'il construise un dictionnaire des predecesseurs de la forme \n",
    "\n",
    "`{ tuple1 : (tuple2 ,str_action) }`   tel que l'on ait $ tuple_1 \\stackrel{\\text{str_action }}{\\longrightarrow} tuple_2 $\n",
    "\n",
    "et qu'il renvoie aussi ce dictionnaire."
   ]
  },
  {
   "cell_type": "code",
   "execution_count": 61,
   "metadata": {},
   "outputs": [],
   "source": [
    "def explore_graphe2(g,s):\n",
    "    \"\"\" explore le graphe g à partir du sommet s à la recherche d'un sommet terminal\n",
    "        renvoie le sommet trouve ou None si l'exploration ne trouve pas  \"\"\"\n",
    "   \n",
    "    visites = [s]    # liste des sommets visités\n",
    "    file = [s] # File FIFO des sommets à traiter \n",
    "    predecesseurs = { s : None} # dictionnaire des predecesseurs\n",
    "    while file != [] :\n",
    "        # code à supprimer en version élèves\n",
    "        sommet = file.pop() \n",
    "        for successeur in g[sommet] :\n",
    "            if successeur not in visites : \n",
    "                visites.append(successeur)\n",
    "                predecesseurs[successeur] = (sommet ,g[sommet][successeur] )\n",
    "                if est_terminale(successeur) : return successeur , predecesseurs\n",
    "                file.insert(0,successeur)\n",
    "                \n",
    "    return None, predecesseurs"
   ]
  },
  {
   "cell_type": "code",
   "execution_count": 68,
   "metadata": {},
   "outputs": [
    {
     "name": "stdout",
     "output_type": "stream",
     "text": [
      "(4, 3)\n"
     ]
    },
    {
     "data": {
      "text/plain": [
       "{(0, 0): None,\n",
       " (5, 0): ((0, 0), 'remplir_A'),\n",
       " (0, 3): ((0, 0), 'remplir_B'),\n",
       " (5, 3): ((5, 0), 'remplir_B'),\n",
       " (2, 3): ((5, 0), 'transfere_A_B'),\n",
       " (3, 0): ((0, 3), 'transfere_B_A'),\n",
       " (2, 0): ((2, 3), 'vider_B'),\n",
       " (3, 3): ((3, 0), 'remplir_B'),\n",
       " (0, 2): ((2, 0), 'transfere_A_B'),\n",
       " (5, 1): ((3, 3), 'transfere_B_A'),\n",
       " (5, 2): ((0, 2), 'remplir_A'),\n",
       " (0, 1): ((5, 1), 'vider_A'),\n",
       " (4, 3): ((5, 2), 'transfere_A_B')}"
      ]
     },
     "execution_count": 68,
     "metadata": {},
     "output_type": "execute_result"
    }
   ],
   "source": [
    "final , predecesseurs = explore_graphe2(graphe, (0,0))\n",
    "print(final) \n",
    "predecesseurs"
   ]
  },
  {
   "cell_type": "markdown",
   "metadata": {},
   "source": [
    " 5. **Reconstruction du chemin**\n",
    " \n",
    " L'algorithme précédent a trouvé un sommet terminal a partir de la configuration $(0,0)$, renvoie ce sommet ainsi qu'un dictionnaire contenant les prédécesseurs des sommets visités. \n",
    " Ecris une fonction Python `chemin(predecesseurs, initial, final)` qui renvoie la liste des actions à effectuer pour aller de initial à final."
   ]
  },
  {
   "cell_type": "code",
   "execution_count": 74,
   "metadata": {},
   "outputs": [],
   "source": [
    "def chemin(predecesseurs, initial, final) :\n",
    "    liste_actions = []\n",
    "    sommet = final\n",
    "    # code à supprimer en version élèves\n",
    "    while predecesseurs[sommet] != None :\n",
    "        pred , action = predecesseurs[sommet]\n",
    "        liste_actions.insert(0, action) \n",
    "        sommet = pred\n",
    "    return liste_actions"
   ]
  },
  {
   "cell_type": "code",
   "execution_count": 75,
   "metadata": {},
   "outputs": [
    {
     "data": {
      "text/plain": [
       "['remplir_A',\n",
       " 'transfere_A_B',\n",
       " 'vider_B',\n",
       " 'transfere_A_B',\n",
       " 'remplir_A',\n",
       " 'transfere_A_B']"
      ]
     },
     "execution_count": 75,
     "metadata": {},
     "output_type": "execute_result"
    }
   ],
   "source": [
    "chemin(predecesseurs,(0,0) , (4,3))"
   ]
  },
  {
   "cell_type": "code",
   "execution_count": null,
   "metadata": {},
   "outputs": [],
   "source": []
  }
 ],
 "metadata": {
  "kernelspec": {
   "display_name": "Python 3",
   "language": "python",
   "name": "python3"
  },
  "language_info": {
   "codemirror_mode": {
    "name": "ipython",
    "version": 3
   },
   "file_extension": ".py",
   "mimetype": "text/x-python",
   "name": "python",
   "nbconvert_exporter": "python",
   "pygments_lexer": "ipython3",
   "version": "3.6.10"
  }
 },
 "nbformat": 4,
 "nbformat_minor": 4
}
