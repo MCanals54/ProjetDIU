{
 "cells": [
  {
   "cell_type": "markdown",
   "metadata": {},
   "source": [
    "# **Compléments sur les graphes**\n",
    "\n",
    "## **I. Une classe Graphe**\n",
    "\n",
    "On te propose dans cette partie de construire une classe pour représenter les graphes.\n",
    "\n",
    "## Section à compléter\n",
    "\n",
    "## **II. l'algorithme de Dijkstra**\n",
    "## Section à compléter. Hors programme de NSI\n",
    "\n"
   ]
  },
  {
   "cell_type": "code",
   "execution_count": null,
   "metadata": {},
   "outputs": [],
   "source": []
  }
 ],
 "metadata": {
  "kernelspec": {
   "display_name": "Python 3",
   "language": "python",
   "name": "python3"
  },
  "language_info": {
   "codemirror_mode": {
    "name": "ipython",
    "version": 3
   },
   "file_extension": ".py",
   "mimetype": "text/x-python",
   "name": "python",
   "nbconvert_exporter": "python",
   "pygments_lexer": "ipython3",
   "version": "3.6.10"
  }
 },
 "nbformat": 4,
 "nbformat_minor": 4
}
