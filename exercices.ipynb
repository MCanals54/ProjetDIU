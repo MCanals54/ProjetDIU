{
 "cells": [
  {
   "cell_type": "markdown",
   "metadata": {},
   "source": [
    "# Exercices sur les graphes."
   ]
  },
  {
   "cell_type": "markdown",
   "metadata": {},
   "source": [
    "<h2 id=exercice1> Exercice 1 </h2>\n",
    "<img src=\"images/graphe_exo1.png\" alt=\"drawing\" width=\"200\"/>\n",
    "\n",
    "1. Détermine l'ensemble des sommets et l'ensemble des arcs de ce graphe.\n",
    "2. Détermine $pred(1)$ et $succ(2)$"
   ]
  },
  {
   "cell_type": "markdown",
   "metadata": {},
   "source": [
    "<h2 id=exercice2> Exercice 2 </h2>\n",
    "Soit $G = (S,A)$ avec $S =\\{1,2,3,4,5\\}$ et $A = \\{(1,2),(1,3),(1,4),(1,5),(2,3),(3,4),(4,5),(5,2) \\}$\n",
    "\n",
    "1. Détermine $pred(1)$ et $succ(1)$\n",
    "2. Dessine ce graphe"
   ]
  },
  {
   "cell_type": "markdown",
   "metadata": {},
   "source": [
    "<h2 id=exercice3> Exercice 3 </h2> enfin un peu de code\n",
    "\n",
    "Soit $G$ un graphe dont l'ensemble des sommets est $S=\\{a,b,c,d,e,f\\}$\n",
    "\n",
    "On donne \n",
    "$pred(a)=\\emptyset$, $pred(b) =\\{c,d\\}$ , $pred(c)=\\{a,b\\}$ , $pred(d)=\\emptyset$ , $pred(e) = \\{b,f\\} $ , $pred(f)= \\{e\\} $.\n",
    "\n",
    "1. Sans faire de dessin, détermine les ensembles de successeurs de chacun des sommets de $G$. \n",
    "2. Peut-on aller de $a$ à $f$ en suivant des arcs ?\n",
    "3. Vérifie en faisant un dessin.\n",
    "4. On implémente les ensembles de predecesseurs à l'aide d'un **dictionnaire**\n",
    "\n",
    "{ _sommet_ : _liste des prédécesseurs_ , ...}\n",
    "\n",
    "```python\n",
    "predecesseurs = { \"a\" : [] , \"b\" :[\"c\",\"d\"] , ... }\n",
    "```\n",
    "Exécute la commande Python dans la cellule ci-dessous."
   ]
  },
  {
   "cell_type": "code",
   "execution_count": 1,
   "metadata": {},
   "outputs": [],
   "source": [
    "predecesseurs = { \"a\" : [] , \"b\" :[\"c\"]  }"
   ]
  },
  {
   "cell_type": "markdown",
   "metadata": {},
   "source": [
    "Ecris une commande permettant d'ajouter la liste des predecesseurs de \"c\" à ce dictionnaire. Ajoute ensuite les predecesseurs des autres sommets. "
   ]
  },
  {
   "cell_type": "code",
   "execution_count": null,
   "metadata": {},
   "outputs": [],
   "source": []
  },
  {
   "cell_type": "markdown",
   "metadata": {},
   "source": [
    "La liste des prédecesseurs de b est incomplète "
   ]
  }
 ],
 "metadata": {
  "kernelspec": {
   "display_name": "Python 3",
   "language": "python",
   "name": "python3"
  },
  "language_info": {
   "codemirror_mode": {
    "name": "ipython",
    "version": 3
   },
   "file_extension": ".py",
   "mimetype": "text/x-python",
   "name": "python",
   "nbconvert_exporter": "python",
   "pygments_lexer": "ipython3",
   "version": "3.6.10"
  }
 },
 "nbformat": 4,
 "nbformat_minor": 4
}
